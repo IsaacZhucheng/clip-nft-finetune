{
 "cells": [
  {
   "cell_type": "code",
   "execution_count": 2,
   "id": "dce43267-932d-44c7-9ec4-68e69ad217ce",
   "metadata": {
    "tags": []
   },
   "outputs": [],
   "source": [
    "import json\n",
    "import boto3\n",
    "import collections\n",
    "import pandas as pd\n",
    "\n",
    "\n",
    "CONTRACT_TABLE = 'opensea-contracts-valid'\n",
    "S3_BUCKET = 'metastitch-ml-assets'\n",
    "\n",
    "dynamo_client = boto3.client('dynamodb',region_name=\"us-west-2\")\n",
    "dynamoDB = boto3.resource('dynamodb',region_name=\"us-west-2\")\n",
    "\n",
    "s3_client = boto3.client('s3')"
   ]
  },
  {
   "cell_type": "markdown",
   "id": "26c1e1d2-3602-4c30-9ecb-7604daae38a0",
   "metadata": {},
   "source": [
    "# Scan Table and Convert to CSV"
   ]
  },
  {
   "cell_type": "code",
   "execution_count": 3,
   "id": "77b9c0da-f042-4cc5-beaa-fbf99f90d251",
   "metadata": {
    "tags": []
   },
   "outputs": [],
   "source": [
    "table = dynamoDB.Table(CONTRACT_TABLE)\n",
    "\n",
    "response = table.scan()\n",
    "data = response['Items']\n",
    "\n",
    "while 'LastEvaluatedKey' in response:\n",
    "    response = table.scan(ExclusiveStartKey=response['LastEvaluatedKey'])\n",
    "    data.extend(response['Items'])"
   ]
  },
  {
   "cell_type": "code",
   "execution_count": 64,
   "id": "7ac2c5cd-937d-488a-83ed-a814f89f54c5",
   "metadata": {
    "collapsed": true,
    "jupyter": {
     "outputs_hidden": true
    },
    "tags": []
   },
   "outputs": [
    {
     "data": {
      "text/plain": [
       "[{'processed': Decimal('1675934378'),\n",
       "  'media_urls': ['https://etherscan.io/address/0x4baf72c20f7a345f62d5795ad4fd80bba42a2f50',\n",
       "   'https://lilbubble.wtf',\n",
       "   'https://discord.gg/xKQHV7X6A7',\n",
       "   'https://www.instagram.com/thecryptobubble',\n",
       "   'https://www.twitter.com/TheCryptoBubble',\n",
       "   'https://www.twitter.com/thecryptobubble',\n",
       "   'https://www.youtube.com/thecryptobubble',\n",
       "   'https://www.discord.gg/xKQHV7X6A7'],\n",
       "  'collection_url': 'https://opensea.io/collection/lil-bubble-collectibles',\n",
       "  'block_timestamp': Decimal('1629889546'),\n",
       "  'volume': '28',\n",
       "  'desc': '[twitter](https://www.twitter.com/thecryptobubble) | [youtube](https://www.youtube.com/thecryptobubble) | [discord](https://www.discord.gg/xKQHV7X6A7)  \\nOfficial collectibles of the singing spaceman, Lil Bubble 👨\\u200d🚀  \\nThis collection is for my NFT experiments and will be added to over time.  \\nOther official Lil Bubble collections: [Parody Pix](https://opensea.io/collection/parody-pix)',\n",
       "  'thumbnail_urls': ['https://i.seadn.io/gae/8hvsuDSzEHEA4myOaXj8PcmMYkWLvAvl44iTLAoyCzw1YyxQ5t51hg7Dho78P7PfPQkIS6oRNoM41AZT54stB5I?auto=format&w=3840',\n",
       "   'https://i.seadn.io/gae/1bseDYLuR_U-r17Wftn_iaTXqeVqjTNgLhQPK5NruZgsuSRBPHabH1A6F5sB7T1LrzrVJ8y3SKwu23zxrD1vw5T5Eujb-isQOZwkWA?auto=format&w=3840',\n",
       "   'https://i.seadn.io/gae/8P_CIRpk1Esoto0GjsdOsQDQPn6UXyVMhiyhBNnvjxTTUxUHrUU5QzxZDV-z0MXmjDCjjw0_7LzaJTAXLjW9X_osjquachDiMhSqjw0?auto=format&w=3840',\n",
       "   'https://i.seadn.io/gae/xMbjHbnnmdVHGa6ObSQ4iCe7P1F4izRZ3k-PJJLoch4FfpNYFUTA-UaIkaxgZ4PVSCy1KyA03KdxWB9BKhKjZ__H_SmyCGSn-Ggwwg?auto=format&w=3840',\n",
       "   'https://i.seadn.io/gae/JGo0WkBDAGtHiz_0XAhj7Q-j1xF6BqfbwtkZYNnF9B0sQ-RYsWZUGKgQIlYik87pfNAuojHKkZY9ODJUxHfl5oNXm3TR0MJNtqpnm2k?auto=format&w=3840'],\n",
       "  'profile_url': 'https://i.seadn.io/gae/0mv63asmCrlAf8jmud_wxhJEnINd9U2X-xP9IolJ5HReVWvwpiKv_hb1fbgwvPM-1DAV-l-MVoVFptVGFG-U4mpOBIlscYr6QOm6zUM?auto=format&w=48',\n",
       "  'banner_url': 'https://i.seadn.io/gae/v85A46RqcV6xGFLFkEpeO-3RoLrtY7-2H1_RcVY4FezzMknM3MN_Wk317y7_bgJq1rJbcHIPJzSjLsmFD8SoIfDtLYaIUIbRl2w1Nw?auto=format&w=640',\n",
       "  'chain': 'ethereum',\n",
       "  'category': 'Music',\n",
       "  'token_id': '10131',\n",
       "  'contract_address': '0x4baf72c20f7a345f62d5795ad4fd80bba42a2f50',\n",
       "  'title': 'Lil Bubble Collectibles'},\n",
       " {'processed': Decimal('1677541037'),\n",
       "  'media_urls': ['https://etherscan.io/address/0x06e4c0e66fc92b90e081ec6fa6fce9372e91d55c',\n",
       "   'https://permalink.sloika.xyz/v1/KTHmqYrrB5uycS7apKwWH'],\n",
       "  'collection_url': 'https://opensea.io/collection/puff-p-collection',\n",
       "  'block_timestamp': Decimal('-1'),\n",
       "  'volume': '0',\n",
       "  'desc': \"Each Puff-P has a unique personality and loves outdoor activities in the best spots of Iceland. Every of the 100 original NFTs is unique and hand tuned to match each scene's atmosphere. In time, the collection might grow up to a maximum of 500 Puff-Ps.  \\nEach primary sale gives back 10% to Sea Shepherd Conservation Society for taking care of the oceans, which are the puffins' environment.\",\n",
       "  'thumbnail_urls': ['https://i.seadn.io/gcs/files/a3366686d85c5099836d0bcc1d73c0f2.jpg?auto=format&w=3840',\n",
       "   'https://i.seadn.io/gcs/files/2ff7a075c43ca0d70068261efba0ab8c.jpg?auto=format&w=3840',\n",
       "   'https://i.seadn.io/gcs/files/7ae97010a12a10810f182242d0cc784e.jpg?auto=format&w=3840',\n",
       "   'https://i.seadn.io/gcs/files/243e15990d33245508e4d86e8deb7ab4.jpg?auto=format&w=3840',\n",
       "   'https://i.seadn.io/gcs/files/c449f4264e5a98afa1452b340b95d3f7.jpg?auto=format&w=3840'],\n",
       "  'profile_url': 'https://i.seadn.io/gcs/files/49c7be5a499b29b0b5ed7b18fbb5eee3.jpg?auto=format&w=48',\n",
       "  'banner_url': 'https://i.seadn.io/gcs/files/486ee49ba695122ced69ffb23a678ba9.jpg?auto=format&w=640',\n",
       "  'chain': 'ethereum',\n",
       "  'category': 'Photography',\n",
       "  'token_id': '70',\n",
       "  'contract_address': '0x06e4c0e66fc92b90e081ec6fa6fce9372e91d55c',\n",
       "  'title': 'Puff-P collection'},\n",
       " {'processed': Decimal('1677541801'),\n",
       "  'media_urls': ['https://etherscan.io/address/0x31a90522b22a0be77d41d5742f93aa0507445359'],\n",
       "  'collection_url': 'https://opensea.io/collection/snacket-girls',\n",
       "  'block_timestamp': Decimal('-1'),\n",
       "  'volume': '0',\n",
       "  'desc': '',\n",
       "  'thumbnail_urls': ['https://i.seadn.io/gae/DHDl7GXIbKG8EZRMXr3I2L2oEdTXHRtZa7OR1HVHNpP1N1-zZp9JcS5OWmCQuL6TzioM6FO1K3jIlbVNbeycGx1Ww0ZX2xag7w3f8A?auto=format&w=3840',\n",
       "   'https://i.seadn.io/gae/E08ylDUkiJkPEGfoIXpblqZmsiWrDFNOO8NTYCggwiS4TRC6Z4uV2d3gweDXisk_-8Wg8QnwbUFMFaVHPK6ueTqk5__wHSzDeewK5A?auto=format&w=3840'],\n",
       "  'profile_url': '',\n",
       "  'banner_url': '',\n",
       "  'chain': 'ethereum',\n",
       "  'category': 'N/A',\n",
       "  'token_id': '1',\n",
       "  'contract_address': '0x31a90522b22a0be77d41d5742f93aa0507445359',\n",
       "  'title': 'Snacket Girls'},\n",
       " {'processed': Decimal('1677548660'),\n",
       "  'media_urls': ['https://etherscan.io/address/0xe61cf3fb9f203f9cff33c75cb054db1d91b6e843',\n",
       "   'https://www.twitter.com/num1crush'],\n",
       "  'collection_url': 'https://opensea.io/collection/subterranean-homesick-muse',\n",
       "  'block_timestamp': Decimal('-1'),\n",
       "  'volume': '0',\n",
       "  'desc': '\"Subterranean Homesick Muse\" is a powerful and thought-provoking series of artworks that speak to the artist experience of alienation and the desire to find one\\'s place in the world. It is a poignant reminder of the struggles and challenges that we all face, and the importance of finding our own way and staying true to ourselves.',\n",
       "  'thumbnail_urls': ['https://i.seadn.io/gcs/files/aeafbd0a8517cdaae0ae2c94fda7e3d5.png?auto=format&w=3840',\n",
       "   'https://i.seadn.io/gcs/files/f0af93287c0ec7c79bd2f982b01d5532.png?auto=format&w=3840',\n",
       "   'https://i.seadn.io/gcs/files/41b7feba7e240d298c45471aec69d988.png?auto=format&w=3840',\n",
       "   'https://i.seadn.io/gcs/files/93cce7db63385f63ba18f97ec6bce07b.png?auto=format&w=3840',\n",
       "   'https://i.seadn.io/gcs/files/c3be998a11e226246afe9dc397e1c913.png?auto=format&w=3840'],\n",
       "  'profile_url': 'https://i.seadn.io/gcs/files/2bd31e1889920bcff0baa5443ce36d55.png?auto=format&w=48',\n",
       "  'banner_url': 'https://i.seadn.io/gcs/files/e22c8a6cb79cdf833d15d4228d2d20f4.png?auto=format&w=640',\n",
       "  'chain': 'ethereum',\n",
       "  'category': 'Art',\n",
       "  'token_id': '1',\n",
       "  'contract_address': '0xe61cf3fb9f203f9cff33c75cb054db1d91b6e843',\n",
       "  'title': 'subterranean homesick muse'},\n",
       " {'processed': Decimal('1675938422'),\n",
       "  'media_urls': ['https://etherscan.io/address/0x403bdb6bd9b3e755f2b7826455d8e3881ddfe227',\n",
       "   'https://memoriesinether.com/',\n",
       "   'https://www.twitter.com/MemoriesInEther'],\n",
       "  'collection_url': 'https://opensea.io/collection/memories-in-ether',\n",
       "  'block_timestamp': Decimal('1656708630'),\n",
       "  'volume': '0',\n",
       "  'desc': '',\n",
       "  'thumbnail_urls': ['https://i.seadn.io/gae/T3qZVnkPt0qr-Qh0Dda3qdlN0KhTBGIzZGyCVQh4VQVOcWz5ICVJCU5DkkxhxteKSNrljxT-jGhFXZbcKKiIVoghtz8OV4Xw_u5U?auto=format&w=3840',\n",
       "   'https://i.seadn.io/gae/T3qZVnkPt0qr-Qh0Dda3qdlN0KhTBGIzZGyCVQh4VQVOcWz5ICVJCU5DkkxhxteKSNrljxT-jGhFXZbcKKiIVoghtz8OV4Xw_u5U?auto=format&w=3840',\n",
       "   'https://i.seadn.io/gae/T3qZVnkPt0qr-Qh0Dda3qdlN0KhTBGIzZGyCVQh4VQVOcWz5ICVJCU5DkkxhxteKSNrljxT-jGhFXZbcKKiIVoghtz8OV4Xw_u5U?auto=format&w=3840',\n",
       "   'https://i.seadn.io/gae/T3qZVnkPt0qr-Qh0Dda3qdlN0KhTBGIzZGyCVQh4VQVOcWz5ICVJCU5DkkxhxteKSNrljxT-jGhFXZbcKKiIVoghtz8OV4Xw_u5U?auto=format&w=3840',\n",
       "   'https://i.seadn.io/gae/T3qZVnkPt0qr-Qh0Dda3qdlN0KhTBGIzZGyCVQh4VQVOcWz5ICVJCU5DkkxhxteKSNrljxT-jGhFXZbcKKiIVoghtz8OV4Xw_u5U?auto=format&w=3840',\n",
       "   'https://i.seadn.io/gae/T3qZVnkPt0qr-Qh0Dda3qdlN0KhTBGIzZGyCVQh4VQVOcWz5ICVJCU5DkkxhxteKSNrljxT-jGhFXZbcKKiIVoghtz8OV4Xw_u5U?auto=format&w=3840',\n",
       "   'https://i.seadn.io/gae/T3qZVnkPt0qr-Qh0Dda3qdlN0KhTBGIzZGyCVQh4VQVOcWz5ICVJCU5DkkxhxteKSNrljxT-jGhFXZbcKKiIVoghtz8OV4Xw_u5U?auto=format&w=3840',\n",
       "   'https://i.seadn.io/gae/T3qZVnkPt0qr-Qh0Dda3qdlN0KhTBGIzZGyCVQh4VQVOcWz5ICVJCU5DkkxhxteKSNrljxT-jGhFXZbcKKiIVoghtz8OV4Xw_u5U?auto=format&w=3840'],\n",
       "  'profile_url': 'https://i.seadn.io/gcs/files/6ad787c62f824c59a140c27d190b9bde.png?auto=format&w=48',\n",
       "  'banner_url': 'https://i.seadn.io/gcs/files/40c063d0825bd9e5ec53500d7ab5bfbf.gif?auto=format&w=640',\n",
       "  'chain': 'ethereum',\n",
       "  'category': 'N/A',\n",
       "  'token_id': '28',\n",
       "  'contract_address': '0x403bdb6bd9b3e755f2b7826455d8e3881ddfe227',\n",
       "  'title': 'Memories In Ether'}]"
      ]
     },
     "execution_count": 64,
     "metadata": {},
     "output_type": "execute_result"
    }
   ],
   "source": [
    "data[:5]"
   ]
  },
  {
   "cell_type": "code",
   "execution_count": 4,
   "id": "0fd1d61e-5fd7-4d20-af40-3b6182bc3697",
   "metadata": {
    "tags": []
   },
   "outputs": [],
   "source": [
    "contract_address = []\n",
    "desc = []\n",
    "thumbnail_url = []\n",
    "volume = []\n",
    "results = collections.defaultdict(list)\n",
    "keys = ['contract_address', 'desc', 'thumbnail_urls', 'volume']\n",
    "for contract in data:\n",
    "    for key in keys:\n",
    "        results[key].append(contract[key])"
   ]
  },
  {
   "cell_type": "code",
   "execution_count": 5,
   "id": "71c22b4a-279c-4651-b262-ac9de5502e86",
   "metadata": {
    "tags": []
   },
   "outputs": [],
   "source": [
    "contract_df = pd.DataFrame(data = results)"
   ]
  },
  {
   "cell_type": "code",
   "execution_count": 6,
   "id": "4c07fc33-b296-4cfa-a49a-59d45e10fd2e",
   "metadata": {
    "tags": []
   },
   "outputs": [],
   "source": [
    "# Remove Contract with No Description\n",
    "contract_df = contract_df.dropna()\n",
    "contract_df = contract_df[contract_df['desc']!='']\n",
    "\n",
    "# Sort by Volume, get the top 50000\n",
    "contract_df['volume'] = contract_df['volume'].str.replace('<', '').astype('float64')\n",
    "contract_df = contract_df.sort_values(by='volume', ascending=False)\n",
    "contract_df = contract_df[:50000]"
   ]
  },
  {
   "cell_type": "code",
   "execution_count": 7,
   "id": "7b341f47-8b7e-4108-a1ab-87bcff3cf6f3",
   "metadata": {
    "tags": []
   },
   "outputs": [
    {
     "data": {
      "text/html": [
       "<div>\n",
       "<style scoped>\n",
       "    .dataframe tbody tr th:only-of-type {\n",
       "        vertical-align: middle;\n",
       "    }\n",
       "\n",
       "    .dataframe tbody tr th {\n",
       "        vertical-align: top;\n",
       "    }\n",
       "\n",
       "    .dataframe thead th {\n",
       "        text-align: right;\n",
       "    }\n",
       "</style>\n",
       "<table border=\"1\" class=\"dataframe\">\n",
       "  <thead>\n",
       "    <tr style=\"text-align: right;\">\n",
       "      <th></th>\n",
       "      <th>contract_address</th>\n",
       "      <th>desc</th>\n",
       "      <th>thumbnail_urls</th>\n",
       "      <th>volume</th>\n",
       "    </tr>\n",
       "  </thead>\n",
       "  <tbody>\n",
       "    <tr>\n",
       "      <th>0</th>\n",
       "      <td>0xbc4ca0eda7647a8ab7c2061c2e118a18a936f13d</td>\n",
       "      <td>The Bored Ape Yacht Club is a collection of 10...</td>\n",
       "      <td>[https://i.seadn.io/gae/X7pJZ1LhxEVQpj6OSpnYNy...</td>\n",
       "      <td>825422.0</td>\n",
       "    </tr>\n",
       "    <tr>\n",
       "      <th>1</th>\n",
       "      <td>0x60e4d786628fea6478f785a6d7e704777c86a7c6</td>\n",
       "      <td>The MUTANT APE YACHT CLUB is a collection of u...</td>\n",
       "      <td>[https://i.seadn.io/gae/xJoW89orPjqLBAxY53Ryxu...</td>\n",
       "      <td>590318.0</td>\n",
       "    </tr>\n",
       "    <tr>\n",
       "      <th>2</th>\n",
       "      <td>0xed5af388653567af2f388e6224dc7c4b3241c544</td>\n",
       "      <td>Take the red bean to join the garden. View the...</td>\n",
       "      <td>[https://i.seadn.io/gcs/files/cff9904bc0cb118f...</td>\n",
       "      <td>352307.0</td>\n",
       "    </tr>\n",
       "    <tr>\n",
       "      <th>3</th>\n",
       "      <td>0x49cf6f5d44e70224e2e23fdcdd2c053f30ada28b</td>\n",
       "      <td>🧬 CLONE X 🧬\\r\\n\\r\\n20,000 next-gen Avatars, by...</td>\n",
       "      <td>[https://i.seadn.io/gcs/files/0439ebd2c631a282...</td>\n",
       "      <td>298686.0</td>\n",
       "    </tr>\n",
       "    <tr>\n",
       "      <th>4</th>\n",
       "      <td>0x23581767a106ae21c074b2276d25e5c3e136a68b</td>\n",
       "      <td>A collection of 10,000 PFPs which grant their ...</td>\n",
       "      <td>[https://openseauserdata.com/files/0fe7e60b9a9...</td>\n",
       "      <td>212939.0</td>\n",
       "    </tr>\n",
       "  </tbody>\n",
       "</table>\n",
       "</div>"
      ],
      "text/plain": [
       "                             contract_address  \\\n",
       "0  0xbc4ca0eda7647a8ab7c2061c2e118a18a936f13d   \n",
       "1  0x60e4d786628fea6478f785a6d7e704777c86a7c6   \n",
       "2  0xed5af388653567af2f388e6224dc7c4b3241c544   \n",
       "3  0x49cf6f5d44e70224e2e23fdcdd2c053f30ada28b   \n",
       "4  0x23581767a106ae21c074b2276d25e5c3e136a68b   \n",
       "\n",
       "                                                desc  \\\n",
       "0  The Bored Ape Yacht Club is a collection of 10...   \n",
       "1  The MUTANT APE YACHT CLUB is a collection of u...   \n",
       "2  Take the red bean to join the garden. View the...   \n",
       "3  🧬 CLONE X 🧬\\r\\n\\r\\n20,000 next-gen Avatars, by...   \n",
       "4  A collection of 10,000 PFPs which grant their ...   \n",
       "\n",
       "                                      thumbnail_urls    volume  \n",
       "0  [https://i.seadn.io/gae/X7pJZ1LhxEVQpj6OSpnYNy...  825422.0  \n",
       "1  [https://i.seadn.io/gae/xJoW89orPjqLBAxY53Ryxu...  590318.0  \n",
       "2  [https://i.seadn.io/gcs/files/cff9904bc0cb118f...  352307.0  \n",
       "3  [https://i.seadn.io/gcs/files/0439ebd2c631a282...  298686.0  \n",
       "4  [https://openseauserdata.com/files/0fe7e60b9a9...  212939.0  "
      ]
     },
     "execution_count": 7,
     "metadata": {},
     "output_type": "execute_result"
    }
   ],
   "source": [
    "contract_df = contract_df.reset_index(drop=True)\n",
    "contract_df.head()"
   ]
  },
  {
   "cell_type": "markdown",
   "id": "e0653712-9909-4e84-8b3e-ec88af274f35",
   "metadata": {},
   "source": [
    "## Clean Description (Text Input)"
   ]
  },
  {
   "cell_type": "code",
   "execution_count": 8,
   "id": "5e92a703-4f06-4d86-ab6b-6c89a14947ff",
   "metadata": {
    "tags": []
   },
   "outputs": [],
   "source": [
    "import re\n",
    "\n",
    "\n",
    "def cleaner(text):\n",
    "    text = text.lower()\n",
    "    text = re.sub(r\"(@\\[A-Za-z0-9]+)|([^0-9A-Za-z \\t])|(\\w+:\\/\\/\\S+)|^rt|http.+?\", \"\", text)\n",
    "    text = text.replace('\\r\\n', ' ').replace('\\n', ' ')\n",
    "    return text"
   ]
  },
  {
   "cell_type": "code",
   "execution_count": 9,
   "id": "3bab5ba3-cee8-467b-b2a8-224ca4c678af",
   "metadata": {
    "tags": []
   },
   "outputs": [],
   "source": [
    "contract_df['desc'] = contract_df['desc'].apply(cleaner)"
   ]
  },
  {
   "cell_type": "code",
   "execution_count": 10,
   "id": "89c22123-fc09-47f2-a159-92a096227720",
   "metadata": {
    "tags": []
   },
   "outputs": [
    {
     "data": {
      "text/html": [
       "<div>\n",
       "<style scoped>\n",
       "    .dataframe tbody tr th:only-of-type {\n",
       "        vertical-align: middle;\n",
       "    }\n",
       "\n",
       "    .dataframe tbody tr th {\n",
       "        vertical-align: top;\n",
       "    }\n",
       "\n",
       "    .dataframe thead th {\n",
       "        text-align: right;\n",
       "    }\n",
       "</style>\n",
       "<table border=\"1\" class=\"dataframe\">\n",
       "  <thead>\n",
       "    <tr style=\"text-align: right;\">\n",
       "      <th></th>\n",
       "      <th>contract_address</th>\n",
       "      <th>desc</th>\n",
       "      <th>thumbnail_urls</th>\n",
       "      <th>volume</th>\n",
       "    </tr>\n",
       "  </thead>\n",
       "  <tbody>\n",
       "    <tr>\n",
       "      <th>0</th>\n",
       "      <td>0xbc4ca0eda7647a8ab7c2061c2e118a18a936f13d</td>\n",
       "      <td>the bored ape yacht club is a collection of 10...</td>\n",
       "      <td>[https://i.seadn.io/gae/X7pJZ1LhxEVQpj6OSpnYNy...</td>\n",
       "      <td>825422.0</td>\n",
       "    </tr>\n",
       "    <tr>\n",
       "      <th>1</th>\n",
       "      <td>0x60e4d786628fea6478f785a6d7e704777c86a7c6</td>\n",
       "      <td>the mutant ape yacht club is a collection of u...</td>\n",
       "      <td>[https://i.seadn.io/gae/xJoW89orPjqLBAxY53Ryxu...</td>\n",
       "      <td>590318.0</td>\n",
       "    </tr>\n",
       "    <tr>\n",
       "      <th>2</th>\n",
       "      <td>0xed5af388653567af2f388e6224dc7c4b3241c544</td>\n",
       "      <td>take the red bean to join the garden view the ...</td>\n",
       "      <td>[https://i.seadn.io/gcs/files/cff9904bc0cb118f...</td>\n",
       "      <td>352307.0</td>\n",
       "    </tr>\n",
       "    <tr>\n",
       "      <th>3</th>\n",
       "      <td>0x49cf6f5d44e70224e2e23fdcdd2c053f30ada28b</td>\n",
       "      <td>clone x 20000 nextgen avatars by rtfkt and ta...</td>\n",
       "      <td>[https://i.seadn.io/gcs/files/0439ebd2c631a282...</td>\n",
       "      <td>298686.0</td>\n",
       "    </tr>\n",
       "    <tr>\n",
       "      <th>4</th>\n",
       "      <td>0x23581767a106ae21c074b2276d25e5c3e136a68b</td>\n",
       "      <td>a collection of 10000 pfps which grant their h...</td>\n",
       "      <td>[https://openseauserdata.com/files/0fe7e60b9a9...</td>\n",
       "      <td>212939.0</td>\n",
       "    </tr>\n",
       "  </tbody>\n",
       "</table>\n",
       "</div>"
      ],
      "text/plain": [
       "                             contract_address  \\\n",
       "0  0xbc4ca0eda7647a8ab7c2061c2e118a18a936f13d   \n",
       "1  0x60e4d786628fea6478f785a6d7e704777c86a7c6   \n",
       "2  0xed5af388653567af2f388e6224dc7c4b3241c544   \n",
       "3  0x49cf6f5d44e70224e2e23fdcdd2c053f30ada28b   \n",
       "4  0x23581767a106ae21c074b2276d25e5c3e136a68b   \n",
       "\n",
       "                                                desc  \\\n",
       "0  the bored ape yacht club is a collection of 10...   \n",
       "1  the mutant ape yacht club is a collection of u...   \n",
       "2  take the red bean to join the garden view the ...   \n",
       "3   clone x 20000 nextgen avatars by rtfkt and ta...   \n",
       "4  a collection of 10000 pfps which grant their h...   \n",
       "\n",
       "                                      thumbnail_urls    volume  \n",
       "0  [https://i.seadn.io/gae/X7pJZ1LhxEVQpj6OSpnYNy...  825422.0  \n",
       "1  [https://i.seadn.io/gae/xJoW89orPjqLBAxY53Ryxu...  590318.0  \n",
       "2  [https://i.seadn.io/gcs/files/cff9904bc0cb118f...  352307.0  \n",
       "3  [https://i.seadn.io/gcs/files/0439ebd2c631a282...  298686.0  \n",
       "4  [https://openseauserdata.com/files/0fe7e60b9a9...  212939.0  "
      ]
     },
     "execution_count": 10,
     "metadata": {},
     "output_type": "execute_result"
    }
   ],
   "source": [
    "contract_df.head()"
   ]
  },
  {
   "cell_type": "code",
   "execution_count": 13,
   "id": "dd5bb70f-fcc1-424c-9d33-4441188d4f74",
   "metadata": {
    "tags": []
   },
   "outputs": [],
   "source": [
    "# Export to s3\n",
    "FILE_NAME  = 'top50000contract.csv'\n",
    "contract_df.to_csv(FILE_NAME, index=False)\n",
    "TO_DUMP = 'data_for_clip/' + FILE_NAME\n",
    "s3_client.upload_file(FILE_NAME, S3_BUCKET, TO_DUMP)"
   ]
  },
  {
   "cell_type": "markdown",
   "id": "55658d20-6b81-4720-9e58-432db3377bef",
   "metadata": {},
   "source": [
    "## Download Thumbnail, Preprocess by CLIP and Dump to Disk"
   ]
  },
  {
   "cell_type": "code",
   "execution_count": 11,
   "id": "3bf43ca5-621e-4298-bfc5-72a1b4cd8e2b",
   "metadata": {
    "tags": []
   },
   "outputs": [
    {
     "data": {
      "text/plain": [
       "<matplotlib.image.AxesImage at 0x7fcc8d73f4d0>"
      ]
     },
     "execution_count": 11,
     "metadata": {},
     "output_type": "execute_result"
    },
    {
     "data": {
      "image/png": "[encoded data removed]",
      "text/plain": [
       "<Figure size 640x480 with 1 Axes>"
      ]
     },
     "metadata": {},
     "output_type": "display_data"
    }
   ],
   "source": [
    "import matplotlib.image as mpimg\n",
    "import matplotlib.pyplot as plt\n",
    "%matplotlib inline\n",
    "# Read Images\n",
    "img = mpimg.imread('test.png')\n",
    " \n",
    "# Output Images\n",
    "plt.imshow(img)"
   ]
  },
  {
   "cell_type": "code",
   "execution_count": 35,
   "id": "c1eb9303-018c-4824-bece-50539f823c1f",
   "metadata": {
    "collapsed": true,
    "jupyter": {
     "outputs_hidden": true
    },
    "tags": []
   },
   "outputs": [
    {
     "name": "stdout",
     "output_type": "stream",
     "text": [
      "Collecting git+https://github.com/openai/CLIP.git\n",
      "  Cloning https://github.com/openai/CLIP.git to /tmp/pip-req-build-wmis1lr2\n",
      "  Running command git clone --filter=blob:none --quiet https://github.com/openai/CLIP.git /tmp/pip-req-build-wmis1lr2\n",
      "  Resolved https://github.com/openai/CLIP.git to commit a9b1bf5920416aaeaec965c25dd9e8f98c864f16\n",
      "  Preparing metadata (setup.py) ... \u001b[?25ldone\n",
      "\u001b[?25hRequirement already satisfied: ftfy in /opt/conda/lib/python3.7/site-packages (from clip==1.0) (6.1.1)\n",
      "Requirement already satisfied: regex in /opt/conda/lib/python3.7/site-packages (from clip==1.0) (2022.10.31)\n",
      "Requirement already satisfied: tqdm in /opt/conda/lib/python3.7/site-packages (from clip==1.0) (4.42.1)\n",
      "Requirement already satisfied: torch in /opt/conda/lib/python3.7/site-packages (from clip==1.0) (1.13.1)\n",
      "Requirement already satisfied: torchvision in /opt/conda/lib/python3.7/site-packages (from clip==1.0) (0.14.1)\n",
      "Requirement already satisfied: wcwidth>=0.2.5 in /opt/conda/lib/python3.7/site-packages (from ftfy->clip==1.0) (0.2.6)\n",
      "Requirement already satisfied: nvidia-cuda-runtime-cu11==11.7.99 in /opt/conda/lib/python3.7/site-packages (from torch->clip==1.0) (11.7.99)\n",
      "Requirement already satisfied: nvidia-cublas-cu11==11.10.3.66 in /opt/conda/lib/python3.7/site-packages (from torch->clip==1.0) (11.10.3.66)\n",
      "Requirement already satisfied: nvidia-cudnn-cu11==8.5.0.96 in /opt/conda/lib/python3.7/site-packages (from torch->clip==1.0) (8.5.0.96)\n",
      "Requirement already satisfied: typing-extensions in /opt/conda/lib/python3.7/site-packages (from torch->clip==1.0) (4.4.0)\n",
      "Requirement already satisfied: nvidia-cuda-nvrtc-cu11==11.7.99 in /opt/conda/lib/python3.7/site-packages (from torch->clip==1.0) (11.7.99)\n",
      "Requirement already satisfied: setuptools in /opt/conda/lib/python3.7/site-packages (from nvidia-cublas-cu11==11.10.3.66->torch->clip==1.0) (59.3.0)\n",
      "Requirement already satisfied: wheel in /opt/conda/lib/python3.7/site-packages (from nvidia-cublas-cu11==11.10.3.66->torch->clip==1.0) (0.38.4)\n",
      "Requirement already satisfied: numpy in /opt/conda/lib/python3.7/site-packages (from torchvision->clip==1.0) (1.21.6)\n",
      "Requirement already satisfied: requests in /opt/conda/lib/python3.7/site-packages (from torchvision->clip==1.0) (2.28.2)\n",
      "Requirement already satisfied: pillow!=8.3.*,>=5.3.0 in /opt/conda/lib/python3.7/site-packages (from torchvision->clip==1.0) (9.4.0)\n",
      "Requirement already satisfied: idna<4,>=2.5 in /opt/conda/lib/python3.7/site-packages (from requests->torchvision->clip==1.0) (2.8)\n",
      "Requirement already satisfied: urllib3<1.27,>=1.21.1 in /opt/conda/lib/python3.7/site-packages (from requests->torchvision->clip==1.0) (1.26.14)\n",
      "Requirement already satisfied: certifi>=2017.4.17 in /opt/conda/lib/python3.7/site-packages (from requests->torchvision->clip==1.0) (2022.12.7)\n",
      "Requirement already satisfied: charset-normalizer<4,>=2 in /opt/conda/lib/python3.7/site-packages (from requests->torchvision->clip==1.0) (2.0.4)\n",
      "Building wheels for collected packages: clip\n",
      "  Building wheel for clip (setup.py) ... \u001b[?25ldone\n",
      "\u001b[?25h  Created wheel for clip: filename=clip-1.0-py3-none-any.whl size=1369408 sha256=9510e6dd683a95baba2db94c7a7a2bf39af419ff5748316aa738789a1a1196e3\n",
      "  Stored in directory: /tmp/pip-ephem-wheel-cache-hf0vv54v/wheels/fd/b9/c3/5b4470e35ed76e174bff77c92f91da82098d5e35fd5bc8cdac\n",
      "Successfully built clip\n",
      "Installing collected packages: clip\n",
      "Successfully installed clip-1.0\n",
      "\u001b[33mWARNING: Running pip as the 'root' user can result in broken permissions and conflicting behaviour with the system package manager. It is recommended to use a virtual environment instead: https://pip.pypa.io/warnings/venv\u001b[0m\u001b[33m\n",
      "\u001b[0m\n",
      "\u001b[1m[\u001b[0m\u001b[34;49mnotice\u001b[0m\u001b[1;39;49m]\u001b[0m\u001b[39;49m A new release of pip is available: \u001b[0m\u001b[31;49m23.0\u001b[0m\u001b[39;49m -> \u001b[0m\u001b[32;49m23.0.1\u001b[0m\n",
      "\u001b[1m[\u001b[0m\u001b[34;49mnotice\u001b[0m\u001b[1;39;49m]\u001b[0m\u001b[39;49m To update, run: \u001b[0m\u001b[32;49mpip install --upgrade pip\u001b[0m\n",
      "Requirement already satisfied: torch in /opt/conda/lib/python3.7/site-packages (1.13.1)\n",
      "Requirement already satisfied: nvidia-cuda-runtime-cu11==11.7.99 in /opt/conda/lib/python3.7/site-packages (from torch) (11.7.99)\n",
      "Requirement already satisfied: typing-extensions in /opt/conda/lib/python3.7/site-packages (from torch) (4.4.0)\n",
      "Requirement already satisfied: nvidia-cudnn-cu11==8.5.0.96 in /opt/conda/lib/python3.7/site-packages (from torch) (8.5.0.96)\n",
      "Requirement already satisfied: nvidia-cublas-cu11==11.10.3.66 in /opt/conda/lib/python3.7/site-packages (from torch) (11.10.3.66)\n",
      "Requirement already satisfied: nvidia-cuda-nvrtc-cu11==11.7.99 in /opt/conda/lib/python3.7/site-packages (from torch) (11.7.99)\n",
      "Requirement already satisfied: wheel in /opt/conda/lib/python3.7/site-packages (from nvidia-cublas-cu11==11.10.3.66->torch) (0.38.4)\n",
      "Requirement already satisfied: setuptools in /opt/conda/lib/python3.7/site-packages (from nvidia-cublas-cu11==11.10.3.66->torch) (59.3.0)\n",
      "\u001b[33mWARNING: Running pip as the 'root' user can result in broken permissions and conflicting behaviour with the system package manager. It is recommended to use a virtual environment instead: https://pip.pypa.io/warnings/venv\u001b[0m\u001b[33m\n",
      "\u001b[0m\n",
      "\u001b[1m[\u001b[0m\u001b[34;49mnotice\u001b[0m\u001b[1;39;49m]\u001b[0m\u001b[39;49m A new release of pip is available: \u001b[0m\u001b[31;49m23.0\u001b[0m\u001b[39;49m -> \u001b[0m\u001b[32;49m23.0.1\u001b[0m\n",
      "\u001b[1m[\u001b[0m\u001b[34;49mnotice\u001b[0m\u001b[1;39;49m]\u001b[0m\u001b[39;49m To update, run: \u001b[0m\u001b[32;49mpip install --upgrade pip\u001b[0m\n"
     ]
    }
   ],
   "source": [
    "!pip install git+https://github.com/openai/CLIP.git\n",
    "!pip install torch"
   ]
  },
  {
   "cell_type": "code",
   "execution_count": 13,
   "id": "979c74c6-a391-4ee9-9b35-3493cd6438e9",
   "metadata": {
    "tags": []
   },
   "outputs": [],
   "source": [
    "import requests\n",
    "import os\n",
    "import clip \n",
    "import torch\n",
    "from PIL import Image\n",
    "import io\n",
    "_, preprocess = clip.load(\"ViT-B/32\") \n",
    "\n",
    "def download_imgs(idxes, contract_df, saved_folder, timeout):\n",
    "    for i in idxes:\n",
    "        contract_address = contract_df.loc[i, 'contract_address']\n",
    "        # Choose the fisrt url for convenience\n",
    "        if len(contract_df.loc[i, 'thumbnail_urls'])>0:\n",
    "            url = contract_df.loc[i, 'thumbnail_urls'][0]\n",
    "            saved_path = os.path.join(saved_folder, contract_address)\n",
    "            if not os.path.exists(saved_path):\n",
    "                try:\n",
    "                    r = requests.get(url, allow_redirects=True, timeout=timeout).content\n",
    "                    image = Image.open(io.BytesIO(r))\n",
    "                    post_image = preprocess(image)\n",
    "                    # with open(saved_path, 'wb') as f:\n",
    "                    #     f.write(r.content)\n",
    "                    torch.save(post_image, saved_path)\n",
    "                except Exception as e: \n",
    "                    print(e)\n"
   ]
  },
  {
   "cell_type": "code",
   "execution_count": 41,
   "id": "4f30620b-f971-4ba7-9636-ae6aebefe4a6",
   "metadata": {
    "collapsed": true,
    "jupyter": {
     "outputs_hidden": true
    },
    "tags": []
   },
   "outputs": [
    {
     "name": "stdout",
     "output_type": "stream",
     "text": [
      "HTTPSConnectionPool(host='i.seadn.io', port=443): Read timed out. (read timeout=5)\n",
      "HTTPSConnectionPool(host='i.seadn.io', port=443): Read timed out. (read timeout=5)\n",
      "HTTPSConnectionPool(host='i.seadn.io', port=443): Read timed out. (read timeout=5)\n",
      "HTTPSConnectionPool(host='i.seadn.io', port=443): Read timed out. (read timeout=5)\n",
      "HTTPSConnectionPool(host='i.seadn.io', port=443): Read timed out. (read timeout=5)\n",
      "HTTPSConnectionPool(host='i.seadn.io', port=443): Read timed out. (read timeout=5)\n",
      "HTTPSConnectionPool(host='i.seadn.io', port=443): Read timed out. (read timeout=5)\n",
      "HTTPSConnectionPool(host='i.seadn.io', port=443): Read timed out. (read timeout=5)\n",
      "HTTPSConnectionPool(host='i.seadn.io', port=443): Read timed out. (read timeout=5)\n",
      "HTTPSConnectionPool(host='i.seadn.io', port=443): Read timed out.\n",
      "HTTPSConnectionPool(host='i.seadn.io', port=443): Read timed out. (read timeout=5)\n",
      "HTTPSConnectionPool(host='i.seadn.io', port=443): Read timed out. (read timeout=5)\n",
      "HTTPSConnectionPool(host='i.seadn.io', port=443): Read timed out. (read timeout=5)\n",
      "HTTPSConnectionPool(host='i.seadn.io', port=443): Read timed out. (read timeout=5)\n",
      "HTTPSConnectionPool(host='i.seadn.io', port=443): Read timed out. (read timeout=5)\n",
      "HTTPSConnectionPool(host='i.seadn.io', port=443): Read timed out. (read timeout=5)\n",
      "HTTPSConnectionPool(host='i.seadn.io', port=443): Read timed out. (read timeout=5)\n",
      "HTTPSConnectionPool(host='i.seadn.io', port=443): Read timed out. (read timeout=5)\n",
      "HTTPSConnectionPool(host='i.seadn.io', port=443): Read timed out. (read timeout=5)\n",
      "HTTPSConnectionPool(host='i.seadn.io', port=443): Read timed out. (read timeout=5)\n",
      "HTTPSConnectionPool(host='i.seadn.io', port=443): Read timed out. (read timeout=5)\n",
      "HTTPSConnectionPool(host='i.seadn.io', port=443): Read timed out. (read timeout=5)\n",
      "HTTPSConnectionPool(host='i.seadn.io', port=443): Read timed out. (read timeout=5)\n",
      "HTTPSConnectionPool(host='i.seadn.io', port=443): Read timed out. (read timeout=5)\n",
      "HTTPSConnectionPool(host='i.seadn.io', port=443): Read timed out. (read timeout=5)\n",
      "HTTPSConnectionPool(host='i.seadn.io', port=443): Read timed out. (read timeout=5)\n",
      "HTTPSConnectionPool(host='i.seadn.io', port=443): Read timed out. (read timeout=5)\n",
      "HTTPSConnectionPool(host='i.seadn.io', port=443): Read timed out. (read timeout=5)\n",
      "HTTPSConnectionPool(host='i.seadn.io', port=443): Read timed out. (read timeout=5)\n",
      "HTTPSConnectionPool(host='i.seadn.io', port=443): Read timed out. (read timeout=5)\n",
      "HTTPSConnectionPool(host='i.seadn.io', port=443): Read timed out. (read timeout=5)\n",
      "HTTPSConnectionPool(host='i.seadn.io', port=443): Read timed out.\n",
      "HTTPSConnectionPool(host='i.seadn.io', port=443): Read timed out. (read timeout=5)\n",
      "HTTPSConnectionPool(host='i.seadn.io', port=443): Read timed out. (read timeout=5)\n",
      "HTTPSConnectionPool(host='i.seadn.io', port=443): Read timed out. (read timeout=5)\n",
      "HTTPSConnectionPool(host='i.seadn.io', port=443): Read timed out. (read timeout=5)\n",
      "HTTPSConnectionPool(host='i.seadn.io', port=443): Read timed out.\n",
      "HTTPSConnectionPool(host='i.seadn.io', port=443): Read timed out. (read timeout=5)\n",
      "HTTPSConnectionPool(host='i.seadn.io', port=443): Read timed out. (read timeout=5)\n",
      "HTTPSConnectionPool(host='i.seadn.io', port=443): Read timed out. (read timeout=5)\n",
      "HTTPSConnectionPool(host='i.seadn.io', port=443): Read timed out. (read timeout=5)\n",
      "HTTPSConnectionPool(host='i.seadn.io', port=443): Read timed out. (read timeout=5)\n",
      "HTTPSConnectionPool(host='i.seadn.io', port=443): Read timed out. (read timeout=5)\n",
      "HTTPSConnectionPool(host='i.seadn.io', port=443): Read timed out. (read timeout=5)\n",
      "HTTPSConnectionPool(host='i.seadn.io', port=443): Read timed out. (read timeout=5)\n",
      "HTTPSConnectionPool(host='i.seadn.io', port=443): Read timed out. (read timeout=5)\n",
      "HTTPSConnectionPool(host='i.seadn.io', port=443): Read timed out. (read timeout=5)\n",
      "HTTPSConnectionPool(host='i.seadn.io', port=443): Read timed out. (read timeout=5)\n",
      "HTTPSConnectionPool(host='i.seadn.io', port=443): Read timed out. (read timeout=5)\n",
      "HTTPSConnectionPool(host='i.seadn.io', port=443): Read timed out. (read timeout=5)\n",
      "HTTPSConnectionPool(host='i.seadn.io', port=443): Read timed out. (read timeout=5)\n",
      "HTTPSConnectionPool(host='i.seadn.io', port=443): Read timed out. (read timeout=5)\n",
      "HTTPSConnectionPool(host='i.seadn.io', port=443): Read timed out. (read timeout=5)\n",
      "HTTPSConnectionPool(host='i.seadn.io', port=443): Read timed out. (read timeout=5)\n",
      "HTTPSConnectionPool(host='i.seadn.io', port=443): Read timed out. (read timeout=5)\n",
      "HTTPSConnectionPool(host='i.seadn.io', port=443): Read timed out. (read timeout=5)\n",
      "HTTPSConnectionPool(host='i.seadn.io', port=443): Read timed out. (read timeout=5)\n",
      "HTTPSConnectionPool(host='i.seadn.io', port=443): Read timed out. (read timeout=5)\n",
      "HTTPSConnectionPool(host='i.seadn.io', port=443): Read timed out. (read timeout=5)\n",
      "HTTPSConnectionPool(host='i.seadn.io', port=443): Read timed out. (read timeout=5)\n",
      "HTTPSConnectionPool(host='i.seadn.io', port=443): Read timed out. (read timeout=5)\n",
      "HTTPSConnectionPool(host='i.seadn.io', port=443): Read timed out.\n",
      "HTTPSConnectionPool(host='i.seadn.io', port=443): Read timed out. (read timeout=5)\n",
      "HTTPSConnectionPool(host='i.seadn.io', port=443): Read timed out. (read timeout=5)\n",
      "HTTPSConnectionPool(host='i.seadn.io', port=443): Read timed out. (read timeout=5)\n",
      "HTTPSConnectionPool(host='i.seadn.io', port=443): Read timed out. (read timeout=5)\n",
      "HTTPSConnectionPool(host='i.seadn.io', port=443): Read timed out. (read timeout=5)\n",
      "HTTPSConnectionPool(host='i.seadn.io', port=443): Read timed out. (read timeout=5)\n",
      "HTTPSConnectionPool(host='i.seadn.io', port=443): Read timed out. (read timeout=5)\n",
      "HTTPSConnectionPool(host='i.seadn.io', port=443): Read timed out. (read timeout=5)\n",
      "HTTPSConnectionPool(host='i.seadn.io', port=443): Read timed out. (read timeout=5)\n",
      "HTTPSConnectionPool(host='i.seadn.io', port=443): Read timed out.\n",
      "HTTPSConnectionPool(host='i.seadn.io', port=443): Read timed out. (read timeout=5)\n",
      "HTTPSConnectionPool(host='i.seadn.io', port=443): Read timed out. (read timeout=5)\n",
      "HTTPSConnectionPool(host='i.seadn.io', port=443): Read timed out. (read timeout=5)\n",
      "HTTPSConnectionPool(host='i.seadn.io', port=443): Read timed out. (read timeout=5)\n",
      "HTTPSConnectionPool(host='i.seadn.io', port=443): Read timed out. (read timeout=5)\n",
      "HTTPSConnectionPool(host='i.seadn.io', port=443): Read timed out. (read timeout=5)\n",
      "HTTPSConnectionPool(host='i.seadn.io', port=443): Read timed out. (read timeout=5)\n",
      "HTTPSConnectionPool(host='i.seadn.io', port=443): Read timed out. (read timeout=5)\n",
      "HTTPSConnectionPool(host='i.seadn.io', port=443): Read timed out. (read timeout=5)\n",
      "HTTPSConnectionPool(host='i.seadn.io', port=443): Read timed out. (read timeout=5)\n",
      "HTTPSConnectionPool(host='i.seadn.io', port=443): Read timed out. (read timeout=5)\n",
      "HTTPSConnectionPool(host='i.seadn.io', port=443): Read timed out. (read timeout=5)\n",
      "HTTPSConnectionPool(host='i.seadn.io', port=443): Read timed out. (read timeout=5)\n",
      "HTTPSConnectionPool(host='i.seadn.io', port=443): Read timed out. (read timeout=5)\n",
      "HTTPSConnectionPool(host='i.seadn.io', port=443): Read timed out. (read timeout=5)\n",
      "HTTPSConnectionPool(host='i.seadn.io', port=443): Read timed out. (read timeout=5)\n",
      "HTTPSConnectionPool(host='i.seadn.io', port=443): Read timed out. (read timeout=5)\n",
      "HTTPSConnectionPool(host='i.seadn.io', port=443): Read timed out. (read timeout=5)\n",
      "HTTPSConnectionPool(host='i.seadn.io', port=443): Read timed out. (read timeout=5)\n",
      "HTTPSConnectionPool(host='i.seadn.io', port=443): Read timed out. (read timeout=5)\n",
      "HTTPSConnectionPool(host='i.seadn.io', port=443): Read timed out. (read timeout=5)\n",
      "HTTPSConnectionPool(host='i.seadn.io', port=443): Read timed out. (read timeout=5)\n",
      "HTTPSConnectionPool(host='i.seadn.io', port=443): Read timed out. (read timeout=5)\n",
      "HTTPSConnectionPool(host='i.seadn.io', port=443): Read timed out. (read timeout=5)\n",
      "HTTPSConnectionPool(host='i.seadn.io', port=443): Read timed out. (read timeout=5)\n",
      "HTTPSConnectionPool(host='i.seadn.io', port=443): Read timed out.\n",
      "HTTPSConnectionPool(host='i.seadn.io', port=443): Read timed out. (read timeout=5)\n",
      "HTTPSConnectionPool(host='i.seadn.io', port=443): Read timed out. (read timeout=5)\n",
      "HTTPSConnectionPool(host='i.seadn.io', port=443): Read timed out. (read timeout=5)\n",
      "HTTPSConnectionPool(host='i.seadn.io', port=443): Read timed out. (read timeout=5)\n",
      "HTTPSConnectionPool(host='i.seadn.io', port=443): Read timed out. (read timeout=5)\n",
      "HTTPSConnectionPool(host='i.seadn.io', port=443): Read timed out. (read timeout=5)\n",
      "HTTPSConnectionPool(host='i.seadn.io', port=443): Read timed out. (read timeout=5)\n",
      "HTTPSConnectionPool(host='i.seadn.io', port=443): Read timed out. (read timeout=5)\n",
      "HTTPSConnectionPool(host='i.seadn.io', port=443): Read timed out. (read timeout=5)\n",
      "HTTPSConnectionPool(host='i.seadn.io', port=443): Read timed out. (read timeout=5)\n",
      "HTTPSConnectionPool(host='i.seadn.io', port=443): Read timed out. (read timeout=5)\n",
      "HTTPSConnectionPool(host='i.seadn.io', port=443): Read timed out. (read timeout=5)\n",
      "HTTPSConnectionPool(host='i.seadn.io', port=443): Read timed out. (read timeout=5)\n",
      "HTTPSConnectionPool(host='i.seadn.io', port=443): Read timed out. (read timeout=5)\n",
      "HTTPSConnectionPool(host='i.seadn.io', port=443): Read timed out. (read timeout=5)\n",
      "HTTPSConnectionPool(host='i.seadn.io', port=443): Read timed out. (read timeout=5)\n",
      "HTTPSConnectionPool(host='i.seadn.io', port=443): Read timed out. (read timeout=5)\n",
      "HTTPSConnectionPool(host='i.seadn.io', port=443): Read timed out. (read timeout=5)\n",
      "HTTPSConnectionPool(host='i.seadn.io', port=443): Read timed out. (read timeout=5)\n",
      "HTTPSConnectionPool(host='i.seadn.io', port=443): Read timed out. (read timeout=5)\n",
      "HTTPSConnectionPool(host='i.seadn.io', port=443): Read timed out. (read timeout=5)\n",
      "HTTPSConnectionPool(host='i.seadn.io', port=443): Read timed out. (read timeout=5)\n",
      "HTTPSConnectionPool(host='i.seadn.io', port=443): Read timed out. (read timeout=5)\n",
      "HTTPSConnectionPool(host='i.seadn.io', port=443): Read timed out. (read timeout=5)\n",
      "HTTPSConnectionPool(host='i.seadn.io', port=443): Read timed out. (read timeout=5)\n",
      "HTTPSConnectionPool(host='i.seadn.io', port=443): Read timed out. (read timeout=5)\n",
      "HTTPSConnectionPool(host='i.seadn.io', port=443): Read timed out. (read timeout=5)\n",
      "HTTPSConnectionPool(host='i.seadn.io', port=443): Read timed out. (read timeout=5)\n",
      "HTTPSConnectionPool(host='i.seadn.io', port=443): Read timed out. (read timeout=5)\n",
      "HTTPSConnectionPool(host='i.seadn.io', port=443): Read timed out. (read timeout=5)\n",
      "HTTPSConnectionPool(host='i.seadn.io', port=443): Read timed out. (read timeout=5)\n",
      "HTTPSConnectionPool(host='i.seadn.io', port=443): Read timed out. (read timeout=5)\n",
      "HTTPSConnectionPool(host='i.seadn.io', port=443): Read timed out. (read timeout=5)\n",
      "HTTPSConnectionPool(host='i.seadn.io', port=443): Read timed out. (read timeout=5)\n",
      "HTTPSConnectionPool(host='i.seadn.io', port=443): Read timed out. (read timeout=5)\n",
      "HTTPSConnectionPool(host='i.seadn.io', port=443): Read timed out. (read timeout=5)\n",
      "HTTPSConnectionPool(host='i.seadn.io', port=443): Read timed out. (read timeout=5)\n",
      "HTTPSConnectionPool(host='i.seadn.io', port=443): Read timed out. (read timeout=5)\n",
      "HTTPSConnectionPool(host='i.seadn.io', port=443): Read timed out. (read timeout=5)\n",
      "HTTPSConnectionPool(host='i.seadn.io', port=443): Read timed out. (read timeout=5)\n",
      "HTTPSConnectionPool(host='i.seadn.io', port=443): Read timed out. (read timeout=5)\n",
      "HTTPSConnectionPool(host='i.seadn.io', port=443): Read timed out. (read timeout=5)\n",
      "HTTPSConnectionPool(host='i.seadn.io', port=443): Read timed out. (read timeout=5)\n",
      "HTTPSConnectionPool(host='i.seadn.io', port=443): Read timed out. (read timeout=5)\n",
      "HTTPSConnectionPool(host='i.seadn.io', port=443): Read timed out. (read timeout=5)\n",
      "HTTPSConnectionPool(host='i.seadn.io', port=443): Read timed out. (read timeout=5)\n",
      "HTTPSConnectionPool(host='i.seadn.io', port=443): Read timed out. (read timeout=5)\n",
      "HTTPSConnectionPool(host='i.seadn.io', port=443): Read timed out. (read timeout=5)\n",
      "HTTPSConnectionPool(host='i.seadn.io', port=443): Read timed out. (read timeout=5)\n",
      "HTTPSConnectionPool(host='i.seadn.io', port=443): Read timed out. (read timeout=5)\n",
      "HTTPSConnectionPool(host='i.seadn.io', port=443): Read timed out. (read timeout=5)\n",
      "HTTPSConnectionPool(host='i.seadn.io', port=443): Read timed out. (read timeout=5)\n",
      "HTTPSConnectionPool(host='i.seadn.io', port=443): Read timed out. (read timeout=5)\n",
      "HTTPSConnectionPool(host='i.seadn.io', port=443): Read timed out. (read timeout=5)\n",
      "HTTPSConnectionPool(host='i.seadn.io', port=443): Read timed out. (read timeout=5)\n",
      "HTTPSConnectionPool(host='i.seadn.io', port=443): Read timed out. (read timeout=5)\n",
      "HTTPSConnectionPool(host='i.seadn.io', port=443): Read timed out. (read timeout=5)\n",
      "HTTPSConnectionPool(host='i.seadn.io', port=443): Read timed out.\n",
      "HTTPSConnectionPool(host='i.seadn.io', port=443): Read timed out. (read timeout=5)\n",
      "HTTPSConnectionPool(host='i.seadn.io', port=443): Read timed out. (read timeout=5)\n",
      "HTTPSConnectionPool(host='i.seadn.io', port=443): Read timed out. (read timeout=5)\n",
      "HTTPSConnectionPool(host='i.seadn.io', port=443): Read timed out. (read timeout=5)\n",
      "HTTPSConnectionPool(host='i.seadn.io', port=443): Read timed out. (read timeout=5)\n",
      "HTTPSConnectionPool(host='i.seadn.io', port=443): Read timed out. (read timeout=5)\n",
      "HTTPSConnectionPool(host='i.seadn.io', port=443): Read timed out. (read timeout=5)\n",
      "HTTPSConnectionPool(host='i.seadn.io', port=443): Read timed out. (read timeout=5)\n",
      "HTTPSConnectionPool(host='i.seadn.io', port=443): Read timed out. (read timeout=5)\n",
      "HTTPSConnectionPool(host='i.seadn.io', port=443): Read timed out. (read timeout=5)\n",
      "HTTPSConnectionPool(host='i.seadn.io', port=443): Read timed out.\n",
      "HTTPSConnectionPool(host='i.seadn.io', port=443): Read timed out. (read timeout=5)\n",
      "HTTPSConnectionPool(host='i.seadn.io', port=443): Read timed out. (read timeout=5)\n",
      "HTTPSConnectionPool(host='i.seadn.io', port=443): Read timed out. (read timeout=5)\n",
      "HTTPSConnectionPool(host='i.seadn.io', port=443): Read timed out. (read timeout=5)\n",
      "HTTPSConnectionPool(host='i.seadn.io', port=443): Read timed out.\n",
      "HTTPSConnectionPool(host='i.seadn.io', port=443): Read timed out. (read timeout=5)\n",
      "HTTPSConnectionPool(host='i.seadn.io', port=443): Read timed out. (read timeout=5)\n",
      "HTTPSConnectionPool(host='i.seadn.io', port=443): Read timed out. (read timeout=5)\n",
      "HTTPSConnectionPool(host='i.seadn.io', port=443): Read timed out. (read timeout=5)\n",
      "HTTPSConnectionPool(host='i.seadn.io', port=443): Read timed out. (read timeout=5)\n",
      "HTTPSConnectionPool(host='i.seadn.io', port=443): Read timed out. (read timeout=5)\n",
      "HTTPSConnectionPool(host='i.seadn.io', port=443): Read timed out. (read timeout=5)\n",
      "HTTPSConnectionPool(host='i.seadn.io', port=443): Read timed out. (read timeout=5)\n",
      "HTTPSConnectionPool(host='i.seadn.io', port=443): Read timed out. (read timeout=5)\n",
      "HTTPSConnectionPool(host='i.seadn.io', port=443): Read timed out. (read timeout=5)\n",
      "HTTPSConnectionPool(host='i.seadn.io', port=443): Read timed out. (read timeout=5)\n",
      "HTTPSConnectionPool(host='i.seadn.io', port=443): Read timed out. (read timeout=5)\n",
      "HTTPSConnectionPool(host='i.seadn.io', port=443): Read timed out. (read timeout=5)\n",
      "HTTPSConnectionPool(host='i.seadn.io', port=443): Read timed out. (read timeout=5)\n",
      "HTTPSConnectionPool(host='i.seadn.io', port=443): Read timed out. (read timeout=5)\n",
      "HTTPSConnectionPool(host='i.seadn.io', port=443): Read timed out. (read timeout=5)\n",
      "HTTPSConnectionPool(host='i.seadn.io', port=443): Read timed out. (read timeout=5)\n",
      "HTTPSConnectionPool(host='i.seadn.io', port=443): Read timed out. (read timeout=5)\n",
      "HTTPSConnectionPool(host='i.seadn.io', port=443): Read timed out. (read timeout=5)\n",
      "HTTPSConnectionPool(host='i.seadn.io', port=443): Read timed out. (read timeout=5)\n",
      "HTTPSConnectionPool(host='i.seadn.io', port=443): Read timed out. (read timeout=5)\n",
      "HTTPSConnectionPool(host='i.seadn.io', port=443): Read timed out. (read timeout=5)\n",
      "HTTPSConnectionPool(host='i.seadn.io', port=443): Read timed out. (read timeout=5)\n",
      "HTTPSConnectionPool(host='i.seadn.io', port=443): Read timed out. (read timeout=5)\n",
      "HTTPSConnectionPool(host='i.seadn.io', port=443): Read timed out. (read timeout=5)\n",
      "HTTPSConnectionPool(host='i.seadn.io', port=443): Read timed out. (read timeout=5)\n",
      "HTTPSConnectionPool(host='i.seadn.io', port=443): Read timed out. (read timeout=5)\n",
      "HTTPSConnectionPool(host='i.seadn.io', port=443): Read timed out. (read timeout=5)\n",
      "HTTPSConnectionPool(host='i.seadn.io', port=443): Read timed out. (read timeout=5)\n",
      "HTTPSConnectionPool(host='i.seadn.io', port=443): Read timed out. (read timeout=5)\n",
      "HTTPSConnectionPool(host='i.seadn.io', port=443): Read timed out. (read timeout=5)\n",
      "HTTPSConnectionPool(host='i.seadn.io', port=443): Read timed out. (read timeout=5)\n",
      "HTTPSConnectionPool(host='i.seadn.io', port=443): Read timed out. (read timeout=5)\n",
      "HTTPSConnectionPool(host='i.seadn.io', port=443): Read timed out. (read timeout=5)\n",
      "HTTPSConnectionPool(host='i.seadn.io', port=443): Read timed out. (read timeout=5)\n",
      "HTTPSConnectionPool(host='i.seadn.io', port=443): Read timed out. (read timeout=5)\n",
      "HTTPSConnectionPool(host='i.seadn.io', port=443): Read timed out. (read timeout=5)\n",
      "HTTPSConnectionPool(host='i.seadn.io', port=443): Read timed out. (read timeout=5)\n",
      "HTTPSConnectionPool(host='i.seadn.io', port=443): Read timed out. (read timeout=5)\n",
      "HTTPSConnectionPool(host='i.seadn.io', port=443): Read timed out. (read timeout=5)\n",
      "HTTPSConnectionPool(host='i.seadn.io', port=443): Read timed out. (read timeout=5)\n",
      "HTTPSConnectionPool(host='i.seadn.io', port=443): Read timed out. (read timeout=5)\n",
      "HTTPSConnectionPool(host='i.seadn.io', port=443): Read timed out. (read timeout=5)\n",
      "HTTPSConnectionPool(host='i.seadn.io', port=443): Read timed out. (read timeout=5)\n",
      "HTTPSConnectionPool(host='i.seadn.io', port=443): Read timed out. (read timeout=5)\n",
      "HTTPSConnectionPool(host='i.seadn.io', port=443): Read timed out. (read timeout=5)\n",
      "HTTPSConnectionPool(host='i.seadn.io', port=443): Read timed out. (read timeout=5)\n",
      "HTTPSConnectionPool(host='i.seadn.io', port=443): Read timed out. (read timeout=5)\n",
      "HTTPSConnectionPool(host='i.seadn.io', port=443): Read timed out. (read timeout=5)\n",
      "HTTPSConnectionPool(host='i.seadn.io', port=443): Read timed out. (read timeout=5)\n",
      "HTTPSConnectionPool(host='i.seadn.io', port=443): Read timed out. (read timeout=5)\n",
      "HTTPSConnectionPool(host='i.seadn.io', port=443): Read timed out. (read timeout=5)\n",
      "HTTPSConnectionPool(host='i.seadn.io', port=443): Read timed out. (read timeout=5)\n",
      "HTTPSConnectionPool(host='i.seadn.io', port=443): Read timed out. (read timeout=5)\n",
      "HTTPSConnectionPool(host='i.seadn.io', port=443): Read timed out. (read timeout=5)\n",
      "HTTPSConnectionPool(host='i.seadn.io', port=443): Read timed out. (read timeout=5)\n",
      "HTTPSConnectionPool(host='i.seadn.io', port=443): Read timed out. (read timeout=5)\n",
      "HTTPSConnectionPool(host='i.seadn.io', port=443): Read timed out. (read timeout=5)\n",
      "HTTPSConnectionPool(host='i.seadn.io', port=443): Read timed out. (read timeout=5)\n",
      "HTTPSConnectionPool(host='i.seadn.io', port=443): Read timed out. (read timeout=5)\n",
      "HTTPSConnectionPool(host='i.seadn.io', port=443): Read timed out. (read timeout=5)\n"
     ]
    }
   ],
   "source": [
    "# Depreacted, switch to Queue implemention, and directly dump CLIP preprocessed features\n",
    "\n",
    "# SAVED_FOLDER = 'thumbnail'\n",
    "# TIMEOUT = 5\n",
    "\n",
    "# idxes = []\n",
    "# for i in range(0, len(contract_df), 1000):\n",
    "#     idxes.append(list(range(i, i+1000)))\n",
    "    \n",
    "# threads = []\n",
    "# for lst in idxes:\n",
    "    \n",
    "#     t = threading.Thread(target=download_imgs, args=(lst, contract_df, SAVED_FOLDER, TIMEOUT))\n",
    "#     t.start()\n",
    "\n",
    "\n",
    "# for thread in threads:\n",
    "#     thread.join()"
   ]
  },
  {
   "cell_type": "code",
   "execution_count": 36,
   "id": "348fd254-169a-4ca4-95a8-37a5af63313e",
   "metadata": {
    "tags": []
   },
   "outputs": [],
   "source": [
    "# Setting up the Queue\n",
    "\n",
    "from queue import Queue\n",
    "import logging\n",
    "from threading import Thread\n",
    "#set up the queue to hold all the urls\n",
    "q = Queue(maxsize=0)\n",
    "\n",
    "num_theads = 10\n",
    "TIMEOUT = 3\n",
    "SAVED_FOLDER = './vision_feature'\n",
    "\n",
    "for i in range(len(contract_df)):\n",
    "    if len(contract_df.loc[i, 'thumbnail_urls'])>0:\n",
    "        url = contract_df.loc[i, 'thumbnail_urls'][0]\n",
    "        contract_address = contract_df.loc[i, 'contract_address']\n",
    "        q.put((contract_address,url))\n",
    "\n",
    "def download_imgs(q):\n",
    "    while not q.empty():\n",
    "        contract_address, url = q.get()\n",
    "\n",
    "\n",
    "        saved_path = os.path.join(SAVED_FOLDER, contract_address)\n",
    "        if not os.path.exists(saved_path):\n",
    "            try:\n",
    "                r = requests.get(url, allow_redirects=True, timeout=TIMEOUT).content\n",
    "                image = Image.open(io.BytesIO(r))\n",
    "                post_image = preprocess(image)\n",
    "                # with open(saved_path, 'wb') as f:\n",
    "                #     f.write(r.content)\n",
    "                torch.save(post_image, saved_path)\n",
    "            except Exception as e: \n",
    "                print(e)\n",
    "        q.task_done()\n",
    "        \n",
    "\n",
    "\n"
   ]
  },
  {
   "cell_type": "code",
   "execution_count": null,
   "id": "03fef749-61d5-4358-929b-58a2efb41120",
   "metadata": {
    "tags": []
   },
   "outputs": [
    {
     "name": "stdout",
     "output_type": "stream",
     "text": [
      "HTTPSConnectionPool(host='i.seadn.io', port=443): Read timed out. (read timeout=3)\n",
      "HTTPSConnectionPool(host='i.seadn.io', port=443): Read timed out. (read timeout=3)\n",
      "HTTPSConnectionPool(host='i.seadn.io', port=443): Read timed out. (read timeout=3)\n",
      "HTTPSConnectionPool(host='i.seadn.io', port=443): Read timed out. (read timeout=3)\n",
      "HTTPSConnectionPool(host='i.seadn.io', port=443): Read timed out. (read timeout=3)\n"
     ]
    }
   ],
   "source": [
    "#Starting worker threads on queue processing\n",
    "for i in range(num_theads):\n",
    "    logging.debug('Starting thread ', i)\n",
    "    worker = Thread(target=download_imgs, args=(q,))\n",
    "    worker.setDaemon(True)    #setting threads as \"daemon\" allows main program to \n",
    "                              #exit eventually even if these dont finish \n",
    "                              #correctly.\n",
    "    worker.start()\n",
    "\n",
    "#now we wait until the queue has been processed\n",
    "q.join()\n",
    "\n",
    "logging.info('All tasks completed.')"
   ]
  },
  {
   "cell_type": "markdown",
   "id": "edd254f2-a83a-4a60-abf6-931e8f0ed8c1",
   "metadata": {},
   "source": [
    "# Prepare Vision Text Pair to Json"
   ]
  },
  {
   "cell_type": "code",
   "execution_count": 56,
   "id": "d57dfffe-337d-4550-9a4d-71285012e8fb",
   "metadata": {
    "tags": []
   },
   "outputs": [],
   "source": [
    "from glob import glob\n",
    "vision_feats = glob('./vision_feature/*')\n",
    "valid_contracts = [item.split('/')[-1] for item in vision_feats]\n",
    "contract_df = contract_df[contract_df['contract_address'].isin(valid_contracts)].reset_index(drop=True)"
   ]
  },
  {
   "cell_type": "code",
   "execution_count": 57,
   "id": "3e2e1803-baa0-46e3-b7c8-62d252e823dd",
   "metadata": {},
   "outputs": [],
   "source": [
    "desc_full = {}\n",
    "cleaned_vision_feats = []\n",
    "null_contracts = []\n",
    "# There are some with no description, remove them first\n",
    "\n",
    "for i in range(len(contract_df)):\n",
    "    \n",
    "    contract = contract_df.loc[i, 'contract_address']\n",
    "    \n",
    "    d = contract_df.loc[i, 'desc']\n",
    "    \n",
    "    if type(d) == float or len(d)<10:\n",
    "        null_contracts.append(contract)\n",
    "        continue \n",
    "    img_file = os.path.join(SAVED_FOLDER, contract)\n",
    "    desc_full[img_file] = d\n",
    "    cleaned_vision_feats.append(img_file)\n",
    "\n",
    "vision_feats = cleaned_vision_feats\n",
    "    "
   ]
  },
  {
   "cell_type": "code",
   "execution_count": 65,
   "id": "41181915-860d-452b-ba6a-4ee443bd0016",
   "metadata": {
    "tags": []
   },
   "outputs": [],
   "source": [
    "import json\n",
    "\n",
    "SPLIT_RATIO = 0.9\n",
    "\n",
    "split_idx = int(len(desc_full)*SPLIT_RATIO)\n",
    "train_json = dict(list(desc_full.items())[:split_idx])\n",
    "test_json = dict(list(desc_full.items())[split_idx:])\n",
    "\n",
    "DATA_FOLDER = './data'\n",
    "\n",
    "with open(os.path.join(DATA_FOLDER, 'train_50000.json'), 'w') as f:\n",
    "    json.dump(train_json, f)\n",
    "    \n",
    "with open(os.path.join(DATA_FOLDER, 'test_50000.json'), 'w') as f:\n",
    "    json.dump(test_json, f)\n",
    "    \n",
    "    "
   ]
  }
 ],
 "metadata": {
  "availableInstances": [
   {
    "_defaultOrder": 0,
    "_isFastLaunch": true,
    "category": "General purpose",
    "gpuNum": 0,
    "memoryGiB": 4,
    "name": "ml.t3.medium",
    "vcpuNum": 2
   },
   {
    "_defaultOrder": 1,
    "_isFastLaunch": false,
    "category": "General purpose",
    "gpuNum": 0,
    "memoryGiB": 8,
    "name": "ml.t3.large",
    "vcpuNum": 2
   },
   {
    "_defaultOrder": 2,
    "_isFastLaunch": false,
    "category": "General purpose",
    "gpuNum": 0,
    "memoryGiB": 16,
    "name": "ml.t3.xlarge",
    "vcpuNum": 4
   },
   {
    "_defaultOrder": 3,
    "_isFastLaunch": false,
    "category": "General purpose",
    "gpuNum": 0,
    "memoryGiB": 32,
    "name": "ml.t3.2xlarge",
    "vcpuNum": 8
   },
   {
    "_defaultOrder": 4,
    "_isFastLaunch": true,
    "category": "General purpose",
    "gpuNum": 0,
    "memoryGiB": 8,
    "name": "ml.m5.large",
    "vcpuNum": 2
   },
   {
    "_defaultOrder": 5,
    "_isFastLaunch": false,
    "category": "General purpose",
    "gpuNum": 0,
    "memoryGiB": 16,
    "name": "ml.m5.xlarge",
    "vcpuNum": 4
   },
   {
    "_defaultOrder": 6,
    "_isFastLaunch": false,
    "category": "General purpose",
    "gpuNum": 0,
    "memoryGiB": 32,
    "name": "ml.m5.2xlarge",
    "vcpuNum": 8
   },
   {
    "_defaultOrder": 7,
    "_isFastLaunch": false,
    "category": "General purpose",
    "gpuNum": 0,
    "memoryGiB": 64,
    "name": "ml.m5.4xlarge",
    "vcpuNum": 16
   },
   {
    "_defaultOrder": 8,
    "_isFastLaunch": false,
    "category": "General purpose",
    "gpuNum": 0,
    "memoryGiB": 128,
    "name": "ml.m5.8xlarge",
    "vcpuNum": 32
   },
   {
    "_defaultOrder": 9,
    "_isFastLaunch": false,
    "category": "General purpose",
    "gpuNum": 0,
    "memoryGiB": 192,
    "name": "ml.m5.12xlarge",
    "vcpuNum": 48
   },
   {
    "_defaultOrder": 10,
    "_isFastLaunch": false,
    "category": "General purpose",
    "gpuNum": 0,
    "memoryGiB": 256,
    "name": "ml.m5.16xlarge",
    "vcpuNum": 64
   },
   {
    "_defaultOrder": 11,
    "_isFastLaunch": false,
    "category": "General purpose",
    "gpuNum": 0,
    "memoryGiB": 384,
    "name": "ml.m5.24xlarge",
    "vcpuNum": 96
   },
   {
    "_defaultOrder": 12,
    "_isFastLaunch": false,
    "category": "General purpose",
    "gpuNum": 0,
    "memoryGiB": 8,
    "name": "ml.m5d.large",
    "vcpuNum": 2
   },
   {
    "_defaultOrder": 13,
    "_isFastLaunch": false,
    "category": "General purpose",
    "gpuNum": 0,
    "memoryGiB": 16,
    "name": "ml.m5d.xlarge",
    "vcpuNum": 4
   },
   {
    "_defaultOrder": 14,
    "_isFastLaunch": false,
    "category": "General purpose",
    "gpuNum": 0,
    "memoryGiB": 32,
    "name": "ml.m5d.2xlarge",
    "vcpuNum": 8
   },
   {
    "_defaultOrder": 15,
    "_isFastLaunch": false,
    "category": "General purpose",
    "gpuNum": 0,
    "memoryGiB": 64,
    "name": "ml.m5d.4xlarge",
    "vcpuNum": 16
   },
   {
    "_defaultOrder": 16,
    "_isFastLaunch": false,
    "category": "General purpose",
    "gpuNum": 0,
    "memoryGiB": 128,
    "name": "ml.m5d.8xlarge",
    "vcpuNum": 32
   },
   {
    "_defaultOrder": 17,
    "_isFastLaunch": false,
    "category": "General purpose",
    "gpuNum": 0,
    "memoryGiB": 192,
    "name": "ml.m5d.12xlarge",
    "vcpuNum": 48
   },
   {
    "_defaultOrder": 18,
    "_isFastLaunch": false,
    "category": "General purpose",
    "gpuNum": 0,
    "memoryGiB": 256,
    "name": "ml.m5d.16xlarge",
    "vcpuNum": 64
   },
   {
    "_defaultOrder": 19,
    "_isFastLaunch": false,
    "category": "General purpose",
    "gpuNum": 0,
    "memoryGiB": 384,
    "name": "ml.m5d.24xlarge",
    "vcpuNum": 96
   },
   {
    "_defaultOrder": 20,
    "_isFastLaunch": true,
    "category": "Compute optimized",
    "gpuNum": 0,
    "memoryGiB": 4,
    "name": "ml.c5.large",
    "vcpuNum": 2
   },
   {
    "_defaultOrder": 21,
    "_isFastLaunch": false,
    "category": "Compute optimized",
    "gpuNum": 0,
    "memoryGiB": 8,
    "name": "ml.c5.xlarge",
    "vcpuNum": 4
   },
   {
    "_defaultOrder": 22,
    "_isFastLaunch": false,
    "category": "Compute optimized",
    "gpuNum": 0,
    "memoryGiB": 16,
    "name": "ml.c5.2xlarge",
    "vcpuNum": 8
   },
   {
    "_defaultOrder": 23,
    "_isFastLaunch": false,
    "category": "Compute optimized",
    "gpuNum": 0,
    "memoryGiB": 32,
    "name": "ml.c5.4xlarge",
    "vcpuNum": 16
   },
   {
    "_defaultOrder": 24,
    "_isFastLaunch": false,
    "category": "Compute optimized",
    "gpuNum": 0,
    "memoryGiB": 72,
    "name": "ml.c5.9xlarge",
    "vcpuNum": 36
   },
   {
    "_defaultOrder": 25,
    "_isFastLaunch": false,
    "category": "Compute optimized",
    "gpuNum": 0,
    "memoryGiB": 96,
    "name": "ml.c5.12xlarge",
    "vcpuNum": 48
   },
   {
    "_defaultOrder": 26,
    "_isFastLaunch": false,
    "category": "Compute optimized",
    "gpuNum": 0,
    "memoryGiB": 144,
    "name": "ml.c5.18xlarge",
    "vcpuNum": 72
   },
   {
    "_defaultOrder": 27,
    "_isFastLaunch": false,
    "category": "Compute optimized",
    "gpuNum": 0,
    "memoryGiB": 192,
    "name": "ml.c5.24xlarge",
    "vcpuNum": 96
   },
   {
    "_defaultOrder": 28,
    "_isFastLaunch": true,
    "category": "Accelerated computing",
    "gpuNum": 1,
    "memoryGiB": 16,
    "name": "ml.g4dn.xlarge",
    "vcpuNum": 4
   },
   {
    "_defaultOrder": 29,
    "_isFastLaunch": false,
    "category": "Accelerated computing",
    "gpuNum": 1,
    "memoryGiB": 32,
    "name": "ml.g4dn.2xlarge",
    "vcpuNum": 8
   },
   {
    "_defaultOrder": 30,
    "_isFastLaunch": false,
    "category": "Accelerated computing",
    "gpuNum": 1,
    "memoryGiB": 64,
    "name": "ml.g4dn.4xlarge",
    "vcpuNum": 16
   },
   {
    "_defaultOrder": 31,
    "_isFastLaunch": false,
    "category": "Accelerated computing",
    "gpuNum": 1,
    "memoryGiB": 128,
    "name": "ml.g4dn.8xlarge",
    "vcpuNum": 32
   },
   {
    "_defaultOrder": 32,
    "_isFastLaunch": false,
    "category": "Accelerated computing",
    "gpuNum": 4,
    "memoryGiB": 192,
    "name": "ml.g4dn.12xlarge",
    "vcpuNum": 48
   },
   {
    "_defaultOrder": 33,
    "_isFastLaunch": false,
    "category": "Accelerated computing",
    "gpuNum": 1,
    "memoryGiB": 256,
    "name": "ml.g4dn.16xlarge",
    "vcpuNum": 64
   },
   {
    "_defaultOrder": 34,
    "_isFastLaunch": false,
    "category": "Accelerated computing",
    "gpuNum": 1,
    "memoryGiB": 61,
    "name": "ml.p3.2xlarge",
    "vcpuNum": 8
   },
   {
    "_defaultOrder": 35,
    "_isFastLaunch": false,
    "category": "Accelerated computing",
    "gpuNum": 4,
    "memoryGiB": 244,
    "name": "ml.p3.8xlarge",
    "vcpuNum": 32
   },
   {
    "_defaultOrder": 36,
    "_isFastLaunch": false,
    "category": "Accelerated computing",
    "gpuNum": 8,
    "memoryGiB": 488,
    "name": "ml.p3.16xlarge",
    "vcpuNum": 64
   },
   {
    "_defaultOrder": 37,
    "_isFastLaunch": false,
    "category": "Accelerated computing",
    "gpuNum": 8,
    "memoryGiB": 768,
    "name": "ml.p3dn.24xlarge",
    "vcpuNum": 96
   },
   {
    "_defaultOrder": 38,
    "_isFastLaunch": false,
    "category": "Memory Optimized",
    "gpuNum": 0,
    "memoryGiB": 16,
    "name": "ml.r5.large",
    "vcpuNum": 2
   },
   {
    "_defaultOrder": 39,
    "_isFastLaunch": false,
    "category": "Memory Optimized",
    "gpuNum": 0,
    "memoryGiB": 32,
    "name": "ml.r5.xlarge",
    "vcpuNum": 4
   },
   {
    "_defaultOrder": 40,
    "_isFastLaunch": false,
    "category": "Memory Optimized",
    "gpuNum": 0,
    "memoryGiB": 64,
    "name": "ml.r5.2xlarge",
    "vcpuNum": 8
   },
   {
    "_defaultOrder": 41,
    "_isFastLaunch": false,
    "category": "Memory Optimized",
    "gpuNum": 0,
    "memoryGiB": 128,
    "name": "ml.r5.4xlarge",
    "vcpuNum": 16
   },
   {
    "_defaultOrder": 42,
    "_isFastLaunch": false,
    "category": "Memory Optimized",
    "gpuNum": 0,
    "memoryGiB": 256,
    "name": "ml.r5.8xlarge",
    "vcpuNum": 32
   },
   {
    "_defaultOrder": 43,
    "_isFastLaunch": false,
    "category": "Memory Optimized",
    "gpuNum": 0,
    "memoryGiB": 384,
    "name": "ml.r5.12xlarge",
    "vcpuNum": 48
   },
   {
    "_defaultOrder": 44,
    "_isFastLaunch": false,
    "category": "Memory Optimized",
    "gpuNum": 0,
    "memoryGiB": 512,
    "name": "ml.r5.16xlarge",
    "vcpuNum": 64
   },
   {
    "_defaultOrder": 45,
    "_isFastLaunch": false,
    "category": "Memory Optimized",
    "gpuNum": 0,
    "memoryGiB": 768,
    "name": "ml.r5.24xlarge",
    "vcpuNum": 96
   },
   {
    "_defaultOrder": 46,
    "_isFastLaunch": false,
    "category": "Accelerated computing",
    "gpuNum": 1,
    "memoryGiB": 16,
    "name": "ml.g5.xlarge",
    "vcpuNum": 4
   },
   {
    "_defaultOrder": 47,
    "_isFastLaunch": false,
    "category": "Accelerated computing",
    "gpuNum": 1,
    "memoryGiB": 32,
    "name": "ml.g5.2xlarge",
    "vcpuNum": 8
   },
   {
    "_defaultOrder": 48,
    "_isFastLaunch": false,
    "category": "Accelerated computing",
    "gpuNum": 1,
    "memoryGiB": 64,
    "name": "ml.g5.4xlarge",
    "vcpuNum": 16
   },
   {
    "_defaultOrder": 49,
    "_isFastLaunch": false,
    "category": "Accelerated computing",
    "gpuNum": 1,
    "memoryGiB": 128,
    "name": "ml.g5.8xlarge",
    "vcpuNum": 32
   },
   {
    "_defaultOrder": 50,
    "_isFastLaunch": false,
    "category": "Accelerated computing",
    "gpuNum": 1,
    "memoryGiB": 256,
    "name": "ml.g5.16xlarge",
    "vcpuNum": 64
   },
   {
    "_defaultOrder": 51,
    "_isFastLaunch": false,
    "category": "Accelerated computing",
    "gpuNum": 4,
    "memoryGiB": 192,
    "name": "ml.g5.12xlarge",
    "vcpuNum": 48
   },
   {
    "_defaultOrder": 52,
    "_isFastLaunch": false,
    "category": "Accelerated computing",
    "gpuNum": 4,
    "memoryGiB": 384,
    "name": "ml.g5.24xlarge",
    "vcpuNum": 96
   },
   {
    "_defaultOrder": 53,
    "_isFastLaunch": false,
    "category": "Accelerated computing",
    "gpuNum": 8,
    "memoryGiB": 768,
    "name": "ml.g5.48xlarge",
    "vcpuNum": 192
   }
  ],
  "instance_type": "ml.t3.medium",
  "kernelspec": {
   "display_name": "Python 3 (Data Science)",
   "language": "python",
   "name": "python3__SAGEMAKER_INTERNAL__arn:aws:sagemaker:us-west-2:236514542706:image/datascience-1.0"
  },
  "language_info": {
   "codemirror_mode": {
    "name": "ipython",
    "version": 3
   },
   "file_extension": ".py",
   "mimetype": "text/x-python",
   "name": "python",
   "nbconvert_exporter": "python",
   "pygments_lexer": "ipython3",
   "version": "3.7.10"
  },
  "toc-autonumbering": true,
  "toc-showcode": false,
  "toc-showtags": false
 },
 "nbformat": 4,
 "nbformat_minor": 5
}
