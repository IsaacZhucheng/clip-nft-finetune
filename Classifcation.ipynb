{
 "cells": [
  {
   "cell_type": "code",
   "execution_count": 33,
   "id": "4819bee3-ec3c-4c5b-b4f7-fd58515565ed",
   "metadata": {
    "tags": []
   },
   "outputs": [],
   "source": [
    "import json\n",
    "import boto3\n",
    "import collections\n",
    "import pandas as pd\n",
    "\n",
    "S3_BUCKET = 'label-studio-sync'\n",
    "\n",
    "s3_client = boto3.client('s3')"
   ]
  },
  {
   "cell_type": "code",
   "execution_count": 34,
   "id": "f4cc1c7b-0759-4e49-870b-8c10e84044e6",
   "metadata": {
    "tags": []
   },
   "outputs": [],
   "source": [
    "result = s3_client.list_objects(Bucket = S3_BUCKET, Prefix='/ethereum/')\n",
    "tmp = result.get('Contents')"
   ]
  },
  {
   "cell_type": "code",
   "execution_count": 35,
   "id": "eca10958-87b2-4f12-aff1-7d9fcf57891e",
   "metadata": {
    "tags": []
   },
   "outputs": [],
   "source": [
    "s3 = boto3.resource('s3')\n",
    "bucket = s3.Bucket(S3_BUCKET)\n",
    "prefix_objs = bucket.objects.filter(Prefix=\"ethereum/\")"
   ]
  },
  {
   "cell_type": "code",
   "execution_count": 10,
   "id": "c85cba85-53dd-47c7-925b-f42618a19d1c",
   "metadata": {
    "collapsed": true,
    "jupyter": {
     "outputs_hidden": true
    },
    "tags": []
   },
   "outputs": [
    {
     "name": "stdout",
     "output_type": "stream",
     "text": [
      "HapeWives Official [OG] - Collection | OpenSea\n",
      "[{'value': {'text': ['description is vague, no website and twitter is suspended']}, 'id': 'hjcgFRDMyE', 'from_name': 'Comments', 'to_name': 'Contract', 'type': 'textarea', 'origin': 'manual'}]\n",
      "---------------------\n",
      "CatBlox X PUMA Capsule - Collection | OpenSea\n",
      "[{'value': {'text': ['the nfts are in collaboration with PUMA', \"news stories showing puma's tweets about the collab\"]}, 'id': 'rQ8twe40Ng', 'from_name': 'Comments', 'to_name': 'Contract', 'type': 'textarea', 'origin': 'manual'}, {'value': {'choices': ['Not meaningful']}, 'id': 'i3_zz0zh5X', 'from_name': 'labels', 'to_name': 'Contract', 'type': 'choices', 'origin': 'manual'}]\n",
      "---------------------\n",
      "RECUR Pass (ETH) - Collection | OpenSea\n",
      "[{'value': {'text': ['follows pfp formats, no tangible product behind it', 'claims to be a membership token that is in tieups with nickelodean, star trek movies etc but no proof of it']}, 'id': 'coHoLD-Ak7', 'from_name': 'Comments', 'to_name': 'Contract', 'type': 'textarea', 'origin': 'manual'}, {'value': {'choices': ['Social Collectible']}, 'id': 'lCeVv_gSzN', 'from_name': 'labels', 'to_name': 'Contract', 'type': 'choices', 'origin': 'manual'}]\n",
      "---------------------\n",
      "Dr. ETHvil's 3D FrankenPunks - Collection | OpenSea\n",
      "[{'value': {'text': ['follows pfp format , It is a NFT collection ']}, 'id': 'Mh-pMIHtKS', 'from_name': 'Comments', 'to_name': 'Contract', 'type': 'textarea', 'origin': 'manual'}, {'value': {'choices': ['Social Collectible']}, 'id': '93HBSrjcYY', 'from_name': 'labels', 'to_name': 'Contract', 'type': 'choices', 'origin': 'manual'}]\n",
      "---------------------\n",
      "Baby Ape Mutant Club - Collection | OpenSea\n",
      "[{'value': {'text': ['follows pfp format , but no site, no twitter handle etc ?']}, 'id': '6TZMGjAGRE', 'from_name': 'Comments', 'to_name': 'Contract', 'type': 'textarea', 'origin': 'manual'}, {'value': {'choices': ['Social Collectible']}, 'id': 'e0Et1zXhSn', 'from_name': 'labels', 'to_name': 'Contract', 'type': 'choices', 'origin': 'manual'}]\n",
      "---------------------\n",
      "Alibaba And Forty Thieves - Collection | OpenSea\n",
      "[{'value': {'text': ['follows pfp format , but site is not working or the claims on site are no good ']}, 'id': 'zrqIvkD8bA', 'from_name': 'Comments', 'to_name': 'Contract', 'type': 'textarea', 'origin': 'manual'}, {'value': {'choices': ['Not meaningful']}, 'id': 'gxtwQWydVl', 'from_name': 'labels', 'to_name': 'Contract', 'type': 'choices', 'origin': 'manual'}]\n",
      "---------------------\n",
      "MetaTowers - Collection | OpenSea\n",
      "[{'value': {'text': ['they claim to be a realty project in metaverse but no evidence for it']}, 'id': 'JhHEGOaOza', 'from_name': 'Comments', 'to_name': 'Contract', 'type': 'textarea', 'origin': 'manual'}]\n",
      "---------------------\n",
      "I Like You, You're Weird - Collection | OpenSea\n",
      "[{'value': {'text': [\"follows pfp format , their twitter is temporarily restricted , also the site talks about art but no such art can be seen , also for gmaing a tournament can be seen but it doesn't load \"]}, 'id': 'ZouAwYDNrg', 'from_name': 'Comments', 'to_name': 'Contract', 'type': 'textarea', 'origin': 'manual'}, {'value': {'choices': ['Social Collectible']}, 'id': 'i-QUN_Kcyf', 'from_name': 'labels', 'to_name': 'Contract', 'type': 'choices', 'origin': 'manual'}]\n",
      "---------------------\n",
      "We Are What We Eat Seed - Collection | OpenSea\n",
      "[{'value': {'text': ['it takes us to some other website in which it is cleared that they take exhibitions and one of the exhibitions is the NFT collection mentioned above ', \"But as the exhibition seems there's no real life perks or any rewards \", \"also there's no twiiter and nothing can be confirmed from instagram \"]}, 'id': 'AtFdRmf8pq', 'from_name': 'Comments', 'to_name': 'Contract', 'type': 'textarea', 'origin': 'manual'}, {'value': {'choices': ['Intentionally Uncategorized']}, 'id': 'eJ0-7EchDN', 'from_name': 'labels', 'to_name': 'Contract', 'type': 'choices', 'origin': 'manual'}]\n",
      "---------------------\n",
      "NOT A RUG - Collection | OpenSea\n",
      "[{'value': {'text': ['website doesnt work, the description is vague']}, 'id': 'MiY2ywTspG', 'from_name': 'Comments', 'to_name': 'Contract', 'type': 'textarea', 'origin': 'manual'}]\n",
      "---------------------\n",
      "hausphases by Haus - Collection | OpenSea\n",
      "[{'value': {'text': ['website doesnt work without web3 conncetion, desctiption and twitter is vague']}, 'id': 'KYfWfei520', 'from_name': 'Comments', 'to_name': 'Contract', 'type': 'textarea', 'origin': 'manual'}, {'value': {'choices': ['Not meaningful']}, 'id': 'aKqfywgRrG', 'from_name': 'labels', 'to_name': 'Contract', 'type': 'choices', 'origin': 'manual'}]\n",
      "---------------------\n",
      "Prime Ape Athletes | Genesis Collection - Collection | OpenSea\n",
      "[{'value': {'text': ['follows pfp format , their site is not working ']}, 'id': 'bpwHw211ir', 'from_name': 'Comments', 'to_name': 'Contract', 'type': 'textarea', 'origin': 'manual'}]\n",
      "---------------------\n",
      "Shinobros Genesis - Collection | OpenSea\n",
      "[]\n",
      "---------------------\n",
      "MetaWhips by WCC - Collection | OpenSea\n",
      "[{'value': {'text': [\"follows pfp format , there's no art behind it , also their site is not working \"]}, 'id': 'TizqP6zbxN', 'from_name': 'Comments', 'to_name': 'Contract', 'type': 'textarea', 'origin': 'manual'}]\n",
      "---------------------\n",
      "Ape Harmony Monster Club - Collection | OpenSea\n",
      "[]\n",
      "---------------------\n",
      "Ape Harmony Monster Club - Collection | OpenSea\n",
      "[]\n",
      "---------------------\n",
      "Meta Maniacs NFT Official - Collection | OpenSea\n",
      "[{'value': {'text': ['follows pfp format , no game can be seen behind it ']}, 'id': 'HvYvHdpQeT', 'from_name': 'Comments', 'to_name': 'Contract', 'type': 'textarea', 'origin': 'manual'}]\n",
      "---------------------\n",
      "Boneheads - Limited Edition - Collection | OpenSea\n",
      "[{'value': {'text': [\"there's a real artist (Davey) behind the collection \"]}, 'id': 'pG6WX2lEiX', 'from_name': 'Comments', 'to_name': 'Contract', 'type': 'textarea', 'origin': 'manual'}, {'value': {'choices': ['Art']}, 'id': 'S6DUN0QYJv', 'from_name': 'labels', 'to_name': 'Contract', 'type': 'choices', 'origin': 'manual'}]\n",
      "---------------------\n",
      "Jake x Jenkins - Collection | OpenSea\n",
      "[{'value': {'text': ['the collection seems as artwork but no site, no twitter , no discord ']}, 'id': 'OTX_2mf-I5', 'from_name': 'Comments', 'to_name': 'Contract', 'type': 'textarea', 'origin': 'manual'}, {'value': {'choices': ['Not meaningful']}, 'id': 'OTplSihVsJ', 'from_name': 'labels', 'to_name': 'Contract', 'type': 'choices', 'origin': 'manual'}]\n",
      "---------------------\n"
     ]
    }
   ],
   "source": [
    "contract_address = []\n",
    "desc = []\n",
    "thumbnail_url = []\n",
    "volume = []\n",
    "results = collections.defaultdict(list)\n",
    "\n",
    "\n",
    "for i, obj in enumerate(prefix_objs):\n",
    "    key = obj.key\n",
    "    body = obj.get()['Body'].read()\n",
    "    if body == b'':\n",
    "        continue\n",
    "    res = json.loads(body)\n",
    "    thumbnail = []\n",
    "    for key in res['task']['data']:\n",
    "        if 'thumb' in key:\n",
    "            thumbnail.append(res['task']['data'][key])\n",
    "    title = res['task']['data']['title']\n",
    "    desc = res['task']['data']['desc'].replace('<b> Description:</b> ', '')\n",
    "    contract = res['task']['data']['contract'].replace('<b> Contract:</b> ', '')\n",
    "    if len(res['result']) == 0 or 'choices' not in res['result'][0]['value']:\n",
    "        print(title)\n",
    "        print(res['result'])\n",
    "        print('---------------------')\n",
    "        continue\n",
    "    label = res['result'][0]['value']['choices']\n",
    "    results['title'].append(title)\n",
    "    results['contract_address'].append(contract)\n",
    "    results['desc'].append(desc)\n",
    "    results['thumbnail_urls'].append(thumbnail)\n",
    "    results['label'].append(label)\n"
   ]
  },
  {
   "cell_type": "code",
   "execution_count": 36,
   "id": "beddf8d8-487a-4747-beb2-c107133e0e47",
   "metadata": {
    "tags": []
   },
   "outputs": [
    {
     "data": {
      "text/plain": [
       "1771"
      ]
     },
     "execution_count": 36,
     "metadata": {},
     "output_type": "execute_result"
    }
   ],
   "source": [
    "len(results['title'])"
   ]
  },
  {
   "cell_type": "markdown",
   "id": "3669c214-f2c5-423b-b9a0-a266c4d58225",
   "metadata": {},
   "source": [
    "# Clean Text, download Preprocess Image (Codes from DataPrepare.ipynb)"
   ]
  },
  {
   "cell_type": "code",
   "execution_count": 12,
   "id": "aead92c1-3b84-40d6-8336-1c306e97ebb3",
   "metadata": {
    "collapsed": true,
    "jupyter": {
     "outputs_hidden": true
    },
    "tags": []
   },
   "outputs": [
    {
     "name": "stdout",
     "output_type": "stream",
     "text": [
      "\u001b[33mWARNING: The directory '/root/.cache/pip' or its parent directory is not owned or is not writable by the current user. The cache has been disabled. Check the permissions and owner of that directory. If executing pip with sudo, you should use sudo's -H flag.\u001b[0m\u001b[33m\n",
      "\u001b[0mCollecting git+https://github.com/openai/CLIP.git\n",
      "  Cloning https://github.com/openai/CLIP.git to /tmp/pip-req-build-qhe7gr3x\n",
      "  Running command git clone --filter=blob:none --quiet https://github.com/openai/CLIP.git /tmp/pip-req-build-qhe7gr3x\n",
      "  Resolved https://github.com/openai/CLIP.git to commit a9b1bf5920416aaeaec965c25dd9e8f98c864f16\n",
      "  Preparing metadata (setup.py) ... \u001b[?25ldone\n",
      "\u001b[?25hRequirement already satisfied: ftfy in /opt/conda/lib/python3.7/site-packages (from clip==1.0) (6.1.1)\n",
      "Requirement already satisfied: regex in /opt/conda/lib/python3.7/site-packages (from clip==1.0) (2022.10.31)\n",
      "Requirement already satisfied: tqdm in /opt/conda/lib/python3.7/site-packages (from clip==1.0) (4.42.1)\n",
      "Requirement already satisfied: torch in /opt/conda/lib/python3.7/site-packages (from clip==1.0) (1.13.1)\n",
      "Requirement already satisfied: torchvision in /opt/conda/lib/python3.7/site-packages (from clip==1.0) (0.14.1)\n",
      "Requirement already satisfied: wcwidth>=0.2.5 in /opt/conda/lib/python3.7/site-packages (from ftfy->clip==1.0) (0.2.6)\n",
      "Requirement already satisfied: nvidia-cublas-cu11==11.10.3.66 in /opt/conda/lib/python3.7/site-packages (from torch->clip==1.0) (11.10.3.66)\n",
      "Requirement already satisfied: nvidia-cuda-runtime-cu11==11.7.99 in /opt/conda/lib/python3.7/site-packages (from torch->clip==1.0) (11.7.99)\n",
      "Requirement already satisfied: nvidia-cuda-nvrtc-cu11==11.7.99 in /opt/conda/lib/python3.7/site-packages (from torch->clip==1.0) (11.7.99)\n",
      "Requirement already satisfied: nvidia-cudnn-cu11==8.5.0.96 in /opt/conda/lib/python3.7/site-packages (from torch->clip==1.0) (8.5.0.96)\n",
      "Requirement already satisfied: typing-extensions in /opt/conda/lib/python3.7/site-packages (from torch->clip==1.0) (4.4.0)\n",
      "Requirement already satisfied: wheel in /opt/conda/lib/python3.7/site-packages (from nvidia-cublas-cu11==11.10.3.66->torch->clip==1.0) (0.38.4)\n",
      "Requirement already satisfied: setuptools in /opt/conda/lib/python3.7/site-packages (from nvidia-cublas-cu11==11.10.3.66->torch->clip==1.0) (59.3.0)\n",
      "Requirement already satisfied: numpy in /opt/conda/lib/python3.7/site-packages (from torchvision->clip==1.0) (1.21.6)\n",
      "Requirement already satisfied: pillow!=8.3.*,>=5.3.0 in /opt/conda/lib/python3.7/site-packages (from torchvision->clip==1.0) (9.4.0)\n",
      "Requirement already satisfied: requests in /opt/conda/lib/python3.7/site-packages (from torchvision->clip==1.0) (2.28.2)\n",
      "Requirement already satisfied: urllib3<1.27,>=1.21.1 in /opt/conda/lib/python3.7/site-packages (from requests->torchvision->clip==1.0) (1.26.14)\n",
      "Requirement already satisfied: certifi>=2017.4.17 in /opt/conda/lib/python3.7/site-packages (from requests->torchvision->clip==1.0) (2022.12.7)\n",
      "Requirement already satisfied: charset-normalizer<4,>=2 in /opt/conda/lib/python3.7/site-packages (from requests->torchvision->clip==1.0) (2.0.4)\n",
      "Requirement already satisfied: idna<4,>=2.5 in /opt/conda/lib/python3.7/site-packages (from requests->torchvision->clip==1.0) (2.8)\n",
      "\u001b[33mWARNING: Running pip as the 'root' user can result in broken permissions and conflicting behaviour with the system package manager. It is recommended to use a virtual environment instead: https://pip.pypa.io/warnings/venv\u001b[0m\u001b[33m\n",
      "\u001b[0m\n",
      "\u001b[1m[\u001b[0m\u001b[34;49mnotice\u001b[0m\u001b[1;39;49m]\u001b[0m\u001b[39;49m A new release of pip is available: \u001b[0m\u001b[31;49m23.0\u001b[0m\u001b[39;49m -> \u001b[0m\u001b[32;49m23.0.1\u001b[0m\n",
      "\u001b[1m[\u001b[0m\u001b[34;49mnotice\u001b[0m\u001b[1;39;49m]\u001b[0m\u001b[39;49m To update, run: \u001b[0m\u001b[32;49mpip install --upgrade pip\u001b[0m\n",
      "\u001b[33mWARNING: The directory '/root/.cache/pip' or its parent directory is not owned or is not writable by the current user. The cache has been disabled. Check the permissions and owner of that directory. If executing pip with sudo, you should use sudo's -H flag.\u001b[0m\u001b[33m\n",
      "\u001b[0mRequirement already satisfied: torch in /opt/conda/lib/python3.7/site-packages (1.13.1)\n",
      "Requirement already satisfied: nvidia-cublas-cu11==11.10.3.66 in /opt/conda/lib/python3.7/site-packages (from torch) (11.10.3.66)\n",
      "Requirement already satisfied: nvidia-cuda-nvrtc-cu11==11.7.99 in /opt/conda/lib/python3.7/site-packages (from torch) (11.7.99)\n",
      "Requirement already satisfied: nvidia-cudnn-cu11==8.5.0.96 in /opt/conda/lib/python3.7/site-packages (from torch) (8.5.0.96)\n",
      "Requirement already satisfied: nvidia-cuda-runtime-cu11==11.7.99 in /opt/conda/lib/python3.7/site-packages (from torch) (11.7.99)\n",
      "Requirement already satisfied: typing-extensions in /opt/conda/lib/python3.7/site-packages (from torch) (4.4.0)\n",
      "Requirement already satisfied: setuptools in /opt/conda/lib/python3.7/site-packages (from nvidia-cublas-cu11==11.10.3.66->torch) (59.3.0)\n",
      "Requirement already satisfied: wheel in /opt/conda/lib/python3.7/site-packages (from nvidia-cublas-cu11==11.10.3.66->torch) (0.38.4)\n",
      "\u001b[33mWARNING: Running pip as the 'root' user can result in broken permissions and conflicting behaviour with the system package manager. It is recommended to use a virtual environment instead: https://pip.pypa.io/warnings/venv\u001b[0m\u001b[33m\n",
      "\u001b[0m\n",
      "\u001b[1m[\u001b[0m\u001b[34;49mnotice\u001b[0m\u001b[1;39;49m]\u001b[0m\u001b[39;49m A new release of pip is available: \u001b[0m\u001b[31;49m23.0\u001b[0m\u001b[39;49m -> \u001b[0m\u001b[32;49m23.0.1\u001b[0m\n",
      "\u001b[1m[\u001b[0m\u001b[34;49mnotice\u001b[0m\u001b[1;39;49m]\u001b[0m\u001b[39;49m To update, run: \u001b[0m\u001b[32;49mpip install --upgrade pip\u001b[0m\n"
     ]
    }
   ],
   "source": [
    "!pip install git+https://github.com/openai/CLIP.git\n",
    "!pip install torch"
   ]
  },
  {
   "cell_type": "code",
   "execution_count": 13,
   "id": "373aef9e-9746-4c6e-8728-ae7006880737",
   "metadata": {
    "tags": []
   },
   "outputs": [],
   "source": [
    "import requests\n",
    "import os\n",
    "import clip \n",
    "import torch\n",
    "from PIL import Image\n",
    "import io\n",
    "_, preprocess = clip.load(\"ViT-B/32\") \n",
    "\n",
    "def download_imgs(idxes, contract_df, saved_folder, timeout):\n",
    "    for i in idxes:\n",
    "        contract_address = contract_df.loc[i, 'contract_address']\n",
    "        # Choose the fisrt url for convenience\n",
    "        if len(contract_df.loc[i, 'thumbnail_urls'])>0:\n",
    "            url = contract_df.loc[i, 'thumbnail_urls'][0]\n",
    "            saved_path = os.path.join(saved_folder, contract_address)\n",
    "            if not os.path.exists(saved_path):\n",
    "                try:\n",
    "                    r = requests.get(url, allow_redirects=True, timeout=timeout).content\n",
    "                    image = Image.open(io.BytesIO(r))\n",
    "                    post_image = preprocess(image)\n",
    "                    # with open(saved_path, 'wb') as f:\n",
    "                    #     f.write(r.content)\n",
    "                    torch.save(post_image, saved_path)\n",
    "                except Exception as e: \n",
    "                    print(e)"
   ]
  },
  {
   "cell_type": "code",
   "execution_count": 14,
   "id": "8073e840-a437-47d0-aa3f-686244c3629e",
   "metadata": {
    "tags": []
   },
   "outputs": [],
   "source": [
    "import re\n",
    "\n",
    "\n",
    "def cleaner(text):\n",
    "    text = text.lower()\n",
    "    text = re.sub(r\"(@\\[A-Za-z0-9]+)|([^0-9A-Za-z \\t])|(\\w+:\\/\\/\\S+)|^rt|http.+?\", \"\", text)\n",
    "    text = text.replace('\\r\\n', ' ').replace('\\n', ' ')\n",
    "    return text"
   ]
  },
  {
   "cell_type": "code",
   "execution_count": 15,
   "id": "2c76523d-84ad-4ca3-946d-32c925c9361c",
   "metadata": {
    "tags": []
   },
   "outputs": [],
   "source": [
    "contract_df = pd.DataFrame(data = results)"
   ]
  },
  {
   "cell_type": "code",
   "execution_count": 16,
   "id": "e14175b0-1890-41bf-9caf-b37bb1ae3dc8",
   "metadata": {
    "tags": []
   },
   "outputs": [],
   "source": [
    "contract_df['desc'] = contract_df['desc'].apply(cleaner)"
   ]
  },
  {
   "cell_type": "code",
   "execution_count": 44,
   "id": "cb9f1557-4fdf-46ff-a414-0e7abf666a66",
   "metadata": {
    "collapsed": true,
    "jupyter": {
     "outputs_hidden": true
    },
    "tags": []
   },
   "outputs": [
    {
     "name": "stdout",
     "output_type": "stream",
     "text": [
      "HTTPSConnectionPool(host='i.seadn.io', port=443): Read timed out. (read timeout=3)\n",
      "HTTPSConnectionPool(host='i.seadn.io', port=443): Read timed out. (read timeout=3)\n",
      "HTTPSConnectionPool(host='i.seadn.io', port=443): Read timed out. (read timeout=3)\n",
      "HTTPSConnectionPool(host='i.seadn.io', port=443): Read timed out. (read timeout=3)\n",
      "HTTPSConnectionPool(host='i.seadn.io', port=443): Read timed out. (read timeout=3)\n",
      "HTTPSConnectionPool(host='i.seadn.io', port=443): Read timed out. (read timeout=3)\n",
      "HTTPSConnectionPool(host='i.seadn.io', port=443): Read timed out. (read timeout=3)\n",
      "HTTPSConnectionPool(host='i.seadn.io', port=443): Read timed out. (read timeout=3)\n",
      "HTTPSConnectionPool(host='i.seadn.io', port=443): Read timed out. (read timeout=3)\n",
      "HTTPSConnectionPool(host='i.seadn.io', port=443): Read timed out. (read timeout=3)\n",
      "HTTPSConnectionPool(host='i.seadn.io', port=443): Read timed out. (read timeout=3)\n",
      "HTTPSConnectionPool(host='i.seadn.io', port=443): Read timed out. (read timeout=3)\n",
      "cannot identify image file <_io.BytesIO object at 0x7f90d6403a70>\n",
      "HTTPSConnectionPool(host='i.seadn.io', port=443): Read timed out. (read timeout=3)\n",
      "HTTPSConnectionPool(host='i.seadn.io', port=443): Read timed out. (read timeout=3)\n",
      "HTTPSConnectionPool(host='i.seadn.io', port=443): Read timed out. (read timeout=3)\n",
      "HTTPSConnectionPool(host='i.seadn.io', port=443): Read timed out. (read timeout=3)\n",
      "HTTPSConnectionPool(host='i.seadn.io', port=443): Read timed out. (read timeout=3)\n",
      "HTTPSConnectionPool(host='i.seadn.io', port=443): Read timed out. (read timeout=3)\n",
      "HTTPSConnectionPool(host='i.seadn.io', port=443): Read timed out. (read timeout=3)\n",
      "HTTPSConnectionPool(host='i.seadn.io', port=443): Read timed out. (read timeout=3)\n",
      "HTTPSConnectionPool(host='i.seadn.io', port=443): Read timed out. (read timeout=3)\n",
      "HTTPSConnectionPool(host='i.seadn.io', port=443): Read timed out. (read timeout=3)\n",
      "HTTPSConnectionPool(host='i.seadn.io', port=443): Read timed out. (read timeout=3)\n",
      "HTTPSConnectionPool(host='i.seadn.io', port=443): Read timed out. (read timeout=3)\n",
      "HTTPSConnectionPool(host='i.seadn.io', port=443): Read timed out. (read timeout=3)\n",
      "HTTPSConnectionPool(host='i.seadn.io', port=443): Read timed out. (read timeout=3)\n",
      "Invalid URL '': No scheme supplied. Perhaps you meant https://?\n",
      "Invalid URL '': No scheme supplied. Perhaps you meant https://?\n",
      "Invalid URL '': No scheme supplied. Perhaps you meant https://?\n",
      "Invalid URL '': No scheme supplied. Perhaps you meant https://?\n",
      "Invalid URL '': No scheme supplied. Perhaps you meant https://?\n",
      "HTTPSConnectionPool(host='i.seadn.io', port=443): Read timed out. (read timeout=3)\n",
      "HTTPSConnectionPool(host='i.seadn.io', port=443): Read timed out. (read timeout=3)\n",
      "HTTPSConnectionPool(host='i.seadn.io', port=443): Read timed out. (read timeout=3)\n",
      "HTTPSConnectionPool(host='i.seadn.io', port=443): Read timed out. (read timeout=3)\n",
      "HTTPSConnectionPool(host='i.seadn.io', port=443): Read timed out. (read timeout=3)\n",
      "HTTPSConnectionPool(host='i.seadn.io', port=443): Read timed out. (read timeout=3)\n",
      "HTTPSConnectionPool(host='i.seadn.io', port=443): Read timed out. (read timeout=3)\n",
      "HTTPSConnectionPool(host='i.seadn.io', port=443): Read timed out. (read timeout=3)\n",
      "HTTPSConnectionPool(host='i.seadn.io', port=443): Read timed out. (read timeout=3)\n",
      "HTTPSConnectionPool(host='i.seadn.io', port=443): Read timed out. (read timeout=3)\n",
      "HTTPSConnectionPool(host='i.seadn.io', port=443): Read timed out. (read timeout=3)\n",
      "HTTPSConnectionPool(host='i.seadn.io', port=443): Read timed out. (read timeout=3)\n",
      "HTTPSConnectionPool(host='i.seadn.io', port=443): Read timed out. (read timeout=3)\n",
      "HTTPSConnectionPool(host='i.seadn.io', port=443): Read timed out. (read timeout=3)\n",
      "HTTPSConnectionPool(host='i.seadn.io', port=443): Read timed out. (read timeout=3)\n",
      "HTTPSConnectionPool(host='i.seadn.io', port=443): Read timed out. (read timeout=3)\n",
      "HTTPSConnectionPool(host='i.seadn.io', port=443): Read timed out. (read timeout=3)\n",
      "HTTPSConnectionPool(host='i.seadn.io', port=443): Read timed out. (read timeout=3)\n",
      "HTTPSConnectionPool(host='i.seadn.io', port=443): Read timed out. (read timeout=3)\n",
      "HTTPSConnectionPool(host='i.seadn.io', port=443): Read timed out. (read timeout=3)\n",
      "HTTPSConnectionPool(host='i.seadn.io', port=443): Read timed out. (read timeout=3)\n",
      "HTTPSConnectionPool(host='i.seadn.io', port=443): Read timed out. (read timeout=3)\n",
      "HTTPSConnectionPool(host='i.seadn.io', port=443): Read timed out. (read timeout=3)\n",
      "HTTPSConnectionPool(host='i.seadn.io', port=443): Read timed out. (read timeout=3)\n",
      "HTTPSConnectionPool(host='i.seadn.io', port=443): Read timed out. (read timeout=3)\n",
      "HTTPSConnectionPool(host='i.seadn.io', port=443): Read timed out. (read timeout=3)\n",
      "HTTPSConnectionPool(host='i.seadn.io', port=443): Read timed out. (read timeout=3)\n",
      "HTTPSConnectionPool(host='i.seadn.io', port=443): Read timed out. (read timeout=3)\n",
      "HTTPSConnectionPool(host='i.seadn.io', port=443): Read timed out. (read timeout=3)\n",
      "HTTPSConnectionPool(host='i.seadn.io', port=443): Read timed out. (read timeout=3)\n",
      "HTTPSConnectionPool(host='i.seadn.io', port=443): Read timed out. (read timeout=3)\n",
      "HTTPSConnectionPool(host='i.seadn.io', port=443): Read timed out. (read timeout=3)\n",
      "HTTPSConnectionPool(host='i.seadn.io', port=443): Read timed out. (read timeout=3)\n",
      "HTTPSConnectionPool(host='i.seadn.io', port=443): Read timed out. (read timeout=3)\n",
      "HTTPSConnectionPool(host='i.seadn.io', port=443): Read timed out. (read timeout=3)\n",
      "HTTPSConnectionPool(host='i.seadn.io', port=443): Read timed out. (read timeout=3)\n",
      "HTTPSConnectionPool(host='i.seadn.io', port=443): Read timed out. (read timeout=3)\n",
      "HTTPSConnectionPool(host='i.seadn.io', port=443): Read timed out. (read timeout=3)\n",
      "HTTPSConnectionPool(host='i.seadn.io', port=443): Read timed out. (read timeout=3)\n",
      "HTTPSConnectionPool(host='i.seadn.io', port=443): Read timed out. (read timeout=3)\n",
      "HTTPSConnectionPool(host='i.seadn.io', port=443): Read timed out. (read timeout=3)\n",
      "HTTPSConnectionPool(host='i.seadn.io', port=443): Read timed out. (read timeout=3)\n",
      "HTTPSConnectionPool(host='i.seadn.io', port=443): Read timed out. (read timeout=3)\n",
      "HTTPSConnectionPool(host='i.seadn.io', port=443): Read timed out. (read timeout=3)\n",
      "HTTPSConnectionPool(host='i.seadn.io', port=443): Read timed out. (read timeout=3)\n",
      "HTTPSConnectionPool(host='i.seadn.io', port=443): Read timed out. (read timeout=3)\n",
      "HTTPSConnectionPool(host='i.seadn.io', port=443): Read timed out. (read timeout=3)\n",
      "HTTPSConnectionPool(host='i.seadn.io', port=443): Read timed out. (read timeout=3)\n",
      "HTTPSConnectionPool(host='i.seadn.io', port=443): Read timed out. (read timeout=3)\n",
      "HTTPSConnectionPool(host='i.seadn.io', port=443): Read timed out. (read timeout=3)\n",
      "HTTPSConnectionPool(host='i.seadn.io', port=443): Read timed out. (read timeout=3)\n",
      "HTTPSConnectionPool(host='i.seadn.io', port=443): Read timed out. (read timeout=3)\n",
      "HTTPSConnectionPool(host='i.seadn.io', port=443): Read timed out. (read timeout=3)\n",
      "HTTPSConnectionPool(host='i.seadn.io', port=443): Read timed out. (read timeout=3)\n",
      "HTTPSConnectionPool(host='i.seadn.io', port=443): Read timed out. (read timeout=3)HTTPSConnectionPool(host='i.seadn.io', port=443): Read timed out. (read timeout=3)\n",
      "\n",
      "HTTPSConnectionPool(host='i.seadn.io', port=443): Read timed out. (read timeout=3)\n",
      "HTTPSConnectionPool(host='i.seadn.io', port=443): Read timed out. (read timeout=3)\n",
      "HTTPSConnectionPool(host='i.seadn.io', port=443): Read timed out. (read timeout=3)\n",
      "HTTPSConnectionPool(host='i.seadn.io', port=443): Read timed out. (read timeout=3)\n",
      "HTTPSConnectionPool(host='i.seadn.io', port=443): Read timed out. (read timeout=3)\n",
      "HTTPSConnectionPool(host='i.seadn.io', port=443): Read timed out. (read timeout=3)\n",
      "HTTPSConnectionPool(host='i.seadn.io', port=443): Read timed out. (read timeout=3)\n",
      "HTTPSConnectionPool(host='i.seadn.io', port=443): Read timed out. (read timeout=3)\n",
      "HTTPSConnectionPool(host='i.seadn.io', port=443): Read timed out. (read timeout=3)\n",
      "HTTPSConnectionPool(host='i.seadn.io', port=443): Read timed out. (read timeout=3)\n",
      "HTTPSConnectionPool(host='i.seadn.io', port=443): Read timed out. (read timeout=3)\n",
      "HTTPSConnectionPool(host='i.seadn.io', port=443): Read timed out. (read timeout=3)\n",
      "HTTPSConnectionPool(host='i.seadn.io', port=443): Read timed out. (read timeout=3)\n",
      "HTTPSConnectionPool(host='i.seadn.io', port=443): Read timed out. (read timeout=3)\n",
      "HTTPSConnectionPool(host='i.seadn.io', port=443): Read timed out. (read timeout=3)\n",
      "HTTPSConnectionPool(host='i.seadn.io', port=443): Read timed out. (read timeout=3)\n",
      "HTTPSConnectionPool(host='i.seadn.io', port=443): Read timed out. (read timeout=3)\n",
      "cannot identify image file <_io.BytesIO object at 0x7f90d6a7bef0>\n",
      "HTTPSConnectionPool(host='i.seadn.io', port=443): Read timed out. (read timeout=3)\n",
      "HTTPSConnectionPool(host='i.seadn.io', port=443): Read timed out. (read timeout=3)\n",
      "HTTPSConnectionPool(host='i.seadn.io', port=443): Read timed out. (read timeout=3)\n",
      "HTTPSConnectionPool(host='i.seadn.io', port=443): Read timed out. (read timeout=3)\n",
      "HTTPSConnectionPool(host='i.seadn.io', port=443): Read timed out. (read timeout=3)\n",
      "HTTPSConnectionPool(host='i.seadn.io', port=443): Read timed out. (read timeout=3)\n",
      "HTTPSConnectionPool(host='i.seadn.io', port=443): Read timed out. (read timeout=3)\n",
      "HTTPSConnectionPool(host='i.seadn.io', port=443): Read timed out. (read timeout=3)\n",
      "HTTPSConnectionPool(host='i.seadn.io', port=443): Read timed out. (read timeout=3)\n",
      "HTTPSConnectionPool(host='i.seadn.io', port=443): Read timed out. (read timeout=3)\n",
      "HTTPSConnectionPool(host='i.seadn.io', port=443): Read timed out. (read timeout=3)\n",
      "HTTPSConnectionPool(host='i.seadn.io', port=443): Read timed out. (read timeout=3)\n",
      "HTTPSConnectionPool(host='i.seadn.io', port=443): Read timed out. (read timeout=3)\n",
      "HTTPSConnectionPool(host='i.seadn.io', port=443): Read timed out. (read timeout=3)\n",
      "Invalid URL '': No scheme supplied. Perhaps you meant https://?\n",
      "Invalid URL '': No scheme supplied. Perhaps you meant https://?\n",
      "Invalid URL '': No scheme supplied. Perhaps you meant https://?\n",
      "Invalid URL '': No scheme supplied. Perhaps you meant https://?\n",
      "Invalid URL '': No scheme supplied. Perhaps you meant https://?\n",
      "Invalid URL '': No scheme supplied. Perhaps you meant https://?\n",
      "HTTPSConnectionPool(host='i.seadn.io', port=443): Read timed out. (read timeout=3)\n",
      "HTTPSConnectionPool(host='i.seadn.io', port=443): Read timed out. (read timeout=3)\n",
      "HTTPSConnectionPool(host='i.seadn.io', port=443): Read timed out. (read timeout=3)\n",
      "HTTPSConnectionPool(host='i.seadn.io', port=443): Read timed out. (read timeout=3)\n",
      "HTTPSConnectionPool(host='i.seadn.io', port=443): Read timed out. (read timeout=3)\n",
      "HTTPSConnectionPool(host='i.seadn.io', port=443): Read timed out. (read timeout=3)\n",
      "HTTPSConnectionPool(host='i.seadn.io', port=443): Read timed out. (read timeout=3)\n",
      "HTTPSConnectionPool(host='i.seadn.io', port=443): Read timed out. (read timeout=3)\n",
      "Invalid URL '': No scheme supplied. Perhaps you meant https://?\n",
      "Invalid URL '': No scheme supplied. Perhaps you meant https://?\n",
      "Invalid URL '': No scheme supplied. Perhaps you meant https://?\n",
      "Invalid URL '': No scheme supplied. Perhaps you meant https://?\n",
      "HTTPSConnectionPool(host='i.seadn.io', port=443): Read timed out. (read timeout=3)\n",
      "HTTPSConnectionPool(host='i.seadn.io', port=443): Read timed out. (read timeout=3)\n",
      "HTTPSConnectionPool(host='i.seadn.io', port=443): Read timed out. (read timeout=3)\n",
      "HTTPSConnectionPool(host='i.seadn.io', port=443): Read timed out. (read timeout=3)\n",
      "cannot identify image file <_io.BytesIO object at 0x7f91551962f0>\n",
      "HTTPSConnectionPool(host='i.seadn.io', port=443): Read timed out. (read timeout=3)\n",
      "HTTPSConnectionPool(host='i.seadn.io', port=443): Read timed out. (read timeout=3)\n",
      "HTTPSConnectionPool(host='i.seadn.io', port=443): Read timed out. (read timeout=3)\n",
      "HTTPSConnectionPool(host='i.seadn.io', port=443): Read timed out. (read timeout=3)\n",
      "HTTPSConnectionPool(host='i.seadn.io', port=443): Read timed out. (read timeout=3)\n",
      "HTTPSConnectionPool(host='i.seadn.io', port=443): Read timed out. (read timeout=3)\n",
      "HTTPSConnectionPool(host='i.seadn.io', port=443): Read timed out. (read timeout=3)\n",
      "HTTPSConnectionPool(host='i.seadn.io', port=443): Read timed out. (read timeout=3)\n",
      "HTTPSConnectionPool(host='i.seadn.io', port=443): Read timed out. (read timeout=3)\n",
      "HTTPSConnectionPool(host='i.seadn.io', port=443): Read timed out. (read timeout=3)\n",
      "HTTPSConnectionPool(host='i.seadn.io', port=443): Read timed out. (read timeout=3)\n",
      "HTTPSConnectionPool(host='i.seadn.io', port=443): Read timed out. (read timeout=3)\n",
      "Invalid URL '': No scheme supplied. Perhaps you meant https://?\n",
      "Invalid URL '': No scheme supplied. Perhaps you meant https://?\n",
      "HTTPSConnectionPool(host='i.seadn.io', port=443): Read timed out. (read timeout=3)\n",
      "HTTPSConnectionPool(host='i.seadn.io', port=443): Read timed out. (read timeout=3)\n",
      "HTTPSConnectionPool(host='i.seadn.io', port=443): Read timed out. (read timeout=3)\n",
      "HTTPSConnectionPool(host='i.seadn.io', port=443): Read timed out. (read timeout=3)\n",
      "HTTPSConnectionPool(host='i.seadn.io', port=443): Read timed out. (read timeout=3)\n",
      "HTTPSConnectionPool(host='i.seadn.io', port=443): Read timed out. (read timeout=3)\n",
      "HTTPSConnectionPool(host='i.seadn.io', port=443): Read timed out. (read timeout=3)\n",
      "HTTPSConnectionPool(host='i.seadn.io', port=443): Read timed out. (read timeout=3)\n",
      "HTTPSConnectionPool(host='i.seadn.io', port=443): Read timed out. (read timeout=3)\n",
      "HTTPSConnectionPool(host='i.seadn.io', port=443): Read timed out. (read timeout=3)\n",
      "HTTPSConnectionPool(host='i.seadn.io', port=443): Read timed out. (read timeout=3)\n",
      "HTTPSConnectionPool(host='i.seadn.io', port=443): Read timed out. (read timeout=3)\n",
      "HTTPSConnectionPool(host='i.seadn.io', port=443): Read timed out. (read timeout=3)\n",
      "HTTPSConnectionPool(host='i.seadn.io', port=443): Read timed out. (read timeout=3)\n",
      "HTTPSConnectionPool(host='i.seadn.io', port=443): Read timed out. (read timeout=3)\n",
      "HTTPSConnectionPool(host='i.seadn.io', port=443): Read timed out. (read timeout=3)\n",
      "HTTPSConnectionPool(host='i.seadn.io', port=443): Read timed out. (read timeout=3)\n",
      "HTTPSConnectionPool(host='i.seadn.io', port=443): Read timed out. (read timeout=3)\n",
      "HTTPSConnectionPool(host='i.seadn.io', port=443): Read timed out. (read timeout=3)\n",
      "HTTPSConnectionPool(host='i.seadn.io', port=443): Read timed out. (read timeout=3)\n",
      "HTTPSConnectionPool(host='i.seadn.io', port=443): Read timed out. (read timeout=3)\n",
      "HTTPSConnectionPool(host='i.seadn.io', port=443): Read timed out. (read timeout=3)\n",
      "HTTPSConnectionPool(host='i.seadn.io', port=443): Read timed out. (read timeout=3)\n",
      "HTTPSConnectionPool(host='i.seadn.io', port=443): Read timed out. (read timeout=3)\n",
      "HTTPSConnectionPool(host='i.seadn.io', port=443): Read timed out. (read timeout=3)\n",
      "HTTPSConnectionPool(host='i.seadn.io', port=443): Read timed out. (read timeout=3)\n",
      "HTTPSConnectionPool(host='i.seadn.io', port=443): Read timed out. (read timeout=3)\n",
      "HTTPSConnectionPool(host='i.seadn.io', port=443): Read timed out. (read timeout=3)\n",
      "HTTPSConnectionPool(host='i.seadn.io', port=443): Read timed out. (read timeout=3)\n",
      "HTTPSConnectionPool(host='i.seadn.io', port=443): Read timed out. (read timeout=3)\n",
      "HTTPSConnectionPool(host='i.seadn.io', port=443): Read timed out. (read timeout=3)\n",
      "HTTPSConnectionPool(host='i.seadn.io', port=443): Read timed out. (read timeout=3)\n",
      "HTTPSConnectionPool(host='i.seadn.io', port=443): Read timed out. (read timeout=3)\n",
      "HTTPSConnectionPool(host='i.seadn.io', port=443): Read timed out. (read timeout=3)\n",
      "HTTPSConnectionPool(host='i.seadn.io', port=443): Read timed out. (read timeout=3)\n",
      "HTTPSConnectionPool(host='i.seadn.io', port=443): Read timed out. (read timeout=3)\n",
      "HTTPSConnectionPool(host='i.seadn.io', port=443): Read timed out. (read timeout=3)\n",
      "HTTPSConnectionPool(host='i.seadn.io', port=443): Read timed out. (read timeout=3)\n",
      "HTTPSConnectionPool(host='i.seadn.io', port=443): Read timed out. (read timeout=3)\n",
      "HTTPSConnectionPool(host='i.seadn.io', port=443): Read timed out. (read timeout=3)\n",
      "HTTPSConnectionPool(host='i.seadn.io', port=443): Read timed out. (read timeout=3)\n",
      "HTTPSConnectionPool(host='i.seadn.io', port=443): Read timed out. (read timeout=3)\n",
      "HTTPSConnectionPool(host='i.seadn.io', port=443): Read timed out. (read timeout=3)\n",
      "HTTPSConnectionPool(host='i.seadn.io', port=443): Read timed out. (read timeout=3)\n",
      "HTTPSConnectionPool(host='i.seadn.io', port=443): Read timed out. (read timeout=3)\n",
      "HTTPSConnectionPool(host='i.seadn.io', port=443): Read timed out. (read timeout=3)\n",
      "HTTPSConnectionPool(host='i.seadn.io', port=443): Read timed out. (read timeout=3)\n",
      "HTTPSConnectionPool(host='i.seadn.io', port=443): Read timed out. (read timeout=3)\n",
      "HTTPSConnectionPool(host='i.seadn.io', port=443): Read timed out. (read timeout=3)\n",
      "HTTPSConnectionPool(host='i.seadn.io', port=443): Read timed out. (read timeout=3)\n",
      "HTTPSConnectionPool(host='i.seadn.io', port=443): Read timed out. (read timeout=3)\n",
      "HTTPSConnectionPool(host='i.seadn.io', port=443): Read timed out. (read timeout=3)\n",
      "HTTPSConnectionPool(host='i.seadn.io', port=443): Read timed out. (read timeout=3)\n",
      "HTTPSConnectionPool(host='i.seadn.io', port=443): Read timed out. (read timeout=3)\n",
      "HTTPSConnectionPool(host='i.seadn.io', port=443): Read timed out. (read timeout=3)\n",
      "HTTPSConnectionPool(host='i.seadn.io', port=443): Read timed out. (read timeout=3)\n",
      "HTTPSConnectionPool(host='i.seadn.io', port=443): Read timed out. (read timeout=3)\n",
      "HTTPSConnectionPool(host='i.seadn.io', port=443): Read timed out. (read timeout=3)\n",
      "HTTPSConnectionPool(host='i.seadn.io', port=443): Read timed out. (read timeout=3)\n",
      "HTTPSConnectionPool(host='i.seadn.io', port=443): Read timed out. (read timeout=3)\n",
      "HTTPSConnectionPool(host='i.seadn.io', port=443): Read timed out. (read timeout=3)\n",
      "HTTPSConnectionPool(host='i.seadn.io', port=443): Read timed out. (read timeout=3)\n",
      "HTTPSConnectionPool(host='i.seadn.io', port=443): Read timed out. (read timeout=3)\n",
      "HTTPSConnectionPool(host='i.seadn.io', port=443): Read timed out. (read timeout=3)\n",
      "HTTPSConnectionPool(host='i.seadn.io', port=443): Read timed out. (read timeout=3)\n",
      "HTTPSConnectionPool(host='i.seadn.io', port=443): Read timed out. (read timeout=3)\n",
      "HTTPSConnectionPool(host='i.seadn.io', port=443): Read timed out. (read timeout=3)\n",
      "HTTPSConnectionPool(host='i.seadn.io', port=443): Read timed out. (read timeout=3)\n",
      "cannot identify image file <_io.BytesIO object at 0x7f91551962f0>\n",
      "cannot identify image file <_io.BytesIO object at 0x7f91551b4770>HTTPSConnectionPool(host='i.seadn.io', port=443): Read timed out. (read timeout=3)\n",
      "\n",
      "HTTPSConnectionPool(host='i.seadn.io', port=443): Read timed out. (read timeout=3)\n",
      "HTTPSConnectionPool(host='i.seadn.io', port=443): Read timed out. (read timeout=3)\n",
      "HTTPSConnectionPool(host='i.seadn.io', port=443): Read timed out. (read timeout=3)\n",
      "HTTPSConnectionPool(host='i.seadn.io', port=443): Read timed out. (read timeout=3)\n",
      "HTTPSConnectionPool(host='i.seadn.io', port=443): Read timed out. (read timeout=3)\n",
      "HTTPSConnectionPool(host='i.seadn.io', port=443): Read timed out. (read timeout=3)\n",
      "HTTPSConnectionPool(host='i.seadn.io', port=443): Read timed out. (read timeout=3)\n",
      "HTTPSConnectionPool(host='i.seadn.io', port=443): Read timed out. (read timeout=3)\n",
      "HTTPSConnectionPool(host='i.seadn.io', port=443): Read timed out. (read timeout=3)\n",
      "HTTPSConnectionPool(host='i.seadn.io', port=443): Read timed out. (read timeout=3)\n",
      "HTTPSConnectionPool(host='i.seadn.io', port=443): Read timed out. (read timeout=3)\n",
      "HTTPSConnectionPool(host='i.seadn.io', port=443): Read timed out. (read timeout=3)\n",
      "HTTPSConnectionPool(host='i.seadn.io', port=443): Read timed out. (read timeout=3)\n",
      "HTTPSConnectionPool(host='i.seadn.io', port=443): Read timed out. (read timeout=3)\n",
      "HTTPSConnectionPool(host='i.seadn.io', port=443): Read timed out. (read timeout=3)\n",
      "HTTPSConnectionPool(host='i.seadn.io', port=443): Read timed out. (read timeout=3)\n",
      "HTTPSConnectionPool(host='i.seadn.io', port=443): Read timed out. (read timeout=3)\n",
      "HTTPSConnectionPool(host='i.seadn.io', port=443): Read timed out. (read timeout=3)\n",
      "HTTPSConnectionPool(host='i.seadn.io', port=443): Read timed out. (read timeout=3)\n",
      "HTTPSConnectionPool(host='i.seadn.io', port=443): Read timed out. (read timeout=3)\n",
      "HTTPSConnectionPool(host='i.seadn.io', port=443): Read timed out. (read timeout=3)\n",
      "HTTPSConnectionPool(host='i.seadn.io', port=443): Read timed out. (read timeout=3)\n",
      "HTTPSConnectionPool(host='i.seadn.io', port=443): Read timed out. (read timeout=3)\n",
      "HTTPSConnectionPool(host='i.seadn.io', port=443): Read timed out. (read timeout=3)\n",
      "HTTPSConnectionPool(host='i.seadn.io', port=443): Read timed out. (read timeout=3)\n",
      "HTTPSConnectionPool(host='i.seadn.io', port=443): Read timed out. (read timeout=3)\n",
      "HTTPSConnectionPool(host='i.seadn.io', port=443): Read timed out. (read timeout=3)\n",
      "HTTPSConnectionPool(host='i.seadn.io', port=443): Read timed out. (read timeout=3)\n",
      "HTTPSConnectionPool(host='i.seadn.io', port=443): Read timed out. (read timeout=3)\n",
      "HTTPSConnectionPool(host='i.seadn.io', port=443): Read timed out. (read timeout=3)\n",
      "HTTPSConnectionPool(host='i.seadn.io', port=443): Read timed out. (read timeout=3)\n",
      "HTTPSConnectionPool(host='i.seadn.io', port=443): Read timed out. (read timeout=3)HTTPSConnectionPool(host='i.seadn.io', port=443): Read timed out. (read timeout=3)\n",
      "\n"
     ]
    }
   ],
   "source": [
    "from queue import Queue\n",
    "import logging\n",
    "from threading import Thread\n",
    "#set up the queue to hold all the urls\n",
    "q = Queue(maxsize=0)\n",
    "\n",
    "num_theads = 10\n",
    "TIMEOUT = 3\n",
    "SAVED_FOLDER = './labeled_images_aug'\n",
    "\n",
    "for i in range(len(contract_df)):\n",
    "    if len(contract_df.loc[i, 'thumbnail_urls'])>0:\n",
    "        urls = contract_df.loc[i, 'thumbnail_urls']\n",
    "        contract_address = contract_df.loc[i, 'contract_address']\n",
    "        q.put((contract_address,urls))\n",
    "\n",
    "def download_imgs(q):\n",
    "    while not q.empty():\n",
    "        contract_address, urls = q.get()\n",
    "        for i, url in enumerate(urls):\n",
    "            saved_path = os.path.join(SAVED_FOLDER, contract_address+f'_{i}')\n",
    "            if not os.path.exists(saved_path):\n",
    "                try:\n",
    "                    r = requests.get(url, allow_redirects=True, timeout=TIMEOUT).content\n",
    "                    image = Image.open(io.BytesIO(r))\n",
    "                    post_image = preprocess(image)\n",
    "                    \n",
    "                    torch.save(post_image, saved_path)\n",
    "                except Exception as e: \n",
    "                    print(e)\n",
    "        q.task_done()"
   ]
  },
  {
   "cell_type": "code",
   "execution_count": 42,
   "id": "6c7a19a0-5784-43ac-8dd3-c1fe5c4da510",
   "metadata": {
    "collapsed": true,
    "jupyter": {
     "outputs_hidden": true
    },
    "tags": []
   },
   "outputs": [
    {
     "name": "stderr",
     "output_type": "stream",
     "text": [
      "/opt/conda/lib/python3.7/site-packages/PIL/Image.py:997: UserWarning: Palette images with Transparency expressed in bytes should be converted to RGBA images\n",
      "  \"Palette images with Transparency expressed in bytes should be \"\n"
     ]
    },
    {
     "name": "stdout",
     "output_type": "stream",
     "text": [
      "Parent directory ./labeled_images_aug does not exist.\n",
      "Parent directory ./labeled_images_aug does not exist.\n",
      "Parent directory ./labeled_images_aug does not exist.\n",
      "Parent directory ./labeled_images_aug does not exist.\n",
      "Parent directory ./labeled_images_aug does not exist.\n",
      "Parent directory ./labeled_images_aug does not exist.\n",
      "Parent directory ./labeled_images_aug does not exist.\n",
      "Parent directory ./labeled_images_aug does not exist.\n",
      "Parent directory ./labeled_images_aug does not exist.\n",
      "Parent directory ./labeled_images_aug does not exist.\n",
      "Parent directory ./labeled_images_aug does not exist.\n",
      "Parent directory ./labeled_images_aug does not exist.\n",
      "Parent directory ./labeled_images_aug does not exist.\n",
      "Parent directory ./labeled_images_aug does not exist.\n",
      "Parent directory ./labeled_images_aug does not exist.\n",
      "Parent directory ./labeled_images_aug does not exist.\n",
      "Parent directory ./labeled_images_aug does not exist.\n",
      "Parent directory ./labeled_images_aug does not exist.Parent directory ./labeled_images_aug does not exist.\n",
      "\n",
      "Parent directory ./labeled_images_aug does not exist.\n",
      "Parent directory ./labeled_images_aug does not exist.\n",
      "Parent directory ./labeled_images_aug does not exist.\n",
      "Parent directory ./labeled_images_aug does not exist.\n",
      "Parent directory ./labeled_images_aug does not exist.\n",
      "Parent directory ./labeled_images_aug does not exist.\n",
      "Parent directory ./labeled_images_aug does not exist.\n",
      "Parent directory ./labeled_images_aug does not exist.\n",
      "Parent directory ./labeled_images_aug does not exist.\n",
      "Parent directory ./labeled_images_aug does not exist.\n",
      "Parent directory ./labeled_images_aug does not exist.\n",
      "Parent directory ./labeled_images_aug does not exist.\n",
      "Parent directory ./labeled_images_aug does not exist.\n",
      "Parent directory ./labeled_images_aug does not exist.\n",
      "Parent directory ./labeled_images_aug does not exist.\n",
      "Parent directory ./labeled_images_aug does not exist.\n",
      "Parent directory ./labeled_images_aug does not exist.\n",
      "Parent directory ./labeled_images_aug does not exist.\n",
      "Parent directory ./labeled_images_aug does not exist.\n",
      "Parent directory ./labeled_images_aug does not exist.Parent directory ./labeled_images_aug does not exist.\n",
      "\n",
      "Parent directory ./labeled_images_aug does not exist.\n",
      "Parent directory ./labeled_images_aug does not exist.\n",
      "Parent directory ./labeled_images_aug does not exist.\n",
      "Parent directory ./labeled_images_aug does not exist.\n",
      "Parent directory ./labeled_images_aug does not exist.Parent directory ./labeled_images_aug does not exist.\n",
      "\n",
      "Parent directory ./labeled_images_aug does not exist.\n",
      "Parent directory ./labeled_images_aug does not exist.\n",
      "Parent directory ./labeled_images_aug does not exist.\n",
      "Parent directory ./labeled_images_aug does not exist.\n",
      "Parent directory ./labeled_images_aug does not exist.\n",
      "Parent directory ./labeled_images_aug does not exist.\n",
      "Parent directory ./labeled_images_aug does not exist.\n",
      "Parent directory ./labeled_images_aug does not exist.\n",
      "Parent directory ./labeled_images_aug does not exist.\n",
      "Parent directory ./labeled_images_aug does not exist.\n",
      "Parent directory ./labeled_images_aug does not exist.\n",
      "Parent directory ./labeled_images_aug does not exist.\n",
      "Parent directory ./labeled_images_aug does not exist.\n",
      "Parent directory ./labeled_images_aug does not exist.\n",
      "Parent directory ./labeled_images_aug does not exist.\n",
      "HTTPSConnectionPool(host='i.seadn.io', port=443): Read timed out. (read timeout=3)\n",
      "Parent directory ./labeled_images_aug does not exist.\n",
      "Parent directory ./labeled_images_aug does not exist.\n",
      "Parent directory ./labeled_images_aug does not exist.\n"
     ]
    },
    {
     "ename": "KeyboardInterrupt",
     "evalue": "",
     "output_type": "error",
     "traceback": [
      "\u001b[0;31m---------------------------------------------------------------------------\u001b[0m",
      "\u001b[0;31mKeyboardInterrupt\u001b[0m                         Traceback (most recent call last)",
      "\u001b[0;32m<ipython-input-42-675de1c26c1e>\u001b[0m in \u001b[0;36m<module>\u001b[0;34m\u001b[0m\n\u001b[1;32m      9\u001b[0m \u001b[0;34m\u001b[0m\u001b[0m\n\u001b[1;32m     10\u001b[0m \u001b[0;31m#now we wait until the queue has been processed\u001b[0m\u001b[0;34m\u001b[0m\u001b[0;34m\u001b[0m\u001b[0;34m\u001b[0m\u001b[0m\n\u001b[0;32m---> 11\u001b[0;31m \u001b[0mq\u001b[0m\u001b[0;34m.\u001b[0m\u001b[0mjoin\u001b[0m\u001b[0;34m(\u001b[0m\u001b[0;34m)\u001b[0m\u001b[0;34m\u001b[0m\u001b[0;34m\u001b[0m\u001b[0m\n\u001b[0m\u001b[1;32m     12\u001b[0m \u001b[0;34m\u001b[0m\u001b[0m\n\u001b[1;32m     13\u001b[0m \u001b[0mlogging\u001b[0m\u001b[0;34m.\u001b[0m\u001b[0minfo\u001b[0m\u001b[0;34m(\u001b[0m\u001b[0;34m'All tasks completed.'\u001b[0m\u001b[0;34m)\u001b[0m\u001b[0;34m\u001b[0m\u001b[0;34m\u001b[0m\u001b[0m\n",
      "\u001b[0;32m/opt/conda/lib/python3.7/queue.py\u001b[0m in \u001b[0;36mjoin\u001b[0;34m(self)\u001b[0m\n\u001b[1;32m     87\u001b[0m         \u001b[0;32mwith\u001b[0m \u001b[0mself\u001b[0m\u001b[0;34m.\u001b[0m\u001b[0mall_tasks_done\u001b[0m\u001b[0;34m:\u001b[0m\u001b[0;34m\u001b[0m\u001b[0;34m\u001b[0m\u001b[0m\n\u001b[1;32m     88\u001b[0m             \u001b[0;32mwhile\u001b[0m \u001b[0mself\u001b[0m\u001b[0;34m.\u001b[0m\u001b[0munfinished_tasks\u001b[0m\u001b[0;34m:\u001b[0m\u001b[0;34m\u001b[0m\u001b[0;34m\u001b[0m\u001b[0m\n\u001b[0;32m---> 89\u001b[0;31m                 \u001b[0mself\u001b[0m\u001b[0;34m.\u001b[0m\u001b[0mall_tasks_done\u001b[0m\u001b[0;34m.\u001b[0m\u001b[0mwait\u001b[0m\u001b[0;34m(\u001b[0m\u001b[0;34m)\u001b[0m\u001b[0;34m\u001b[0m\u001b[0;34m\u001b[0m\u001b[0m\n\u001b[0m\u001b[1;32m     90\u001b[0m \u001b[0;34m\u001b[0m\u001b[0m\n\u001b[1;32m     91\u001b[0m     \u001b[0;32mdef\u001b[0m \u001b[0mqsize\u001b[0m\u001b[0;34m(\u001b[0m\u001b[0mself\u001b[0m\u001b[0;34m)\u001b[0m\u001b[0;34m:\u001b[0m\u001b[0;34m\u001b[0m\u001b[0;34m\u001b[0m\u001b[0m\n",
      "\u001b[0;32m/opt/conda/lib/python3.7/threading.py\u001b[0m in \u001b[0;36mwait\u001b[0;34m(self, timeout)\u001b[0m\n\u001b[1;32m    294\u001b[0m         \u001b[0;32mtry\u001b[0m\u001b[0;34m:\u001b[0m    \u001b[0;31m# restore state no matter what (e.g., KeyboardInterrupt)\u001b[0m\u001b[0;34m\u001b[0m\u001b[0;34m\u001b[0m\u001b[0m\n\u001b[1;32m    295\u001b[0m             \u001b[0;32mif\u001b[0m \u001b[0mtimeout\u001b[0m \u001b[0;32mis\u001b[0m \u001b[0;32mNone\u001b[0m\u001b[0;34m:\u001b[0m\u001b[0;34m\u001b[0m\u001b[0;34m\u001b[0m\u001b[0m\n\u001b[0;32m--> 296\u001b[0;31m                 \u001b[0mwaiter\u001b[0m\u001b[0;34m.\u001b[0m\u001b[0macquire\u001b[0m\u001b[0;34m(\u001b[0m\u001b[0;34m)\u001b[0m\u001b[0;34m\u001b[0m\u001b[0;34m\u001b[0m\u001b[0m\n\u001b[0m\u001b[1;32m    297\u001b[0m                 \u001b[0mgotit\u001b[0m \u001b[0;34m=\u001b[0m \u001b[0;32mTrue\u001b[0m\u001b[0;34m\u001b[0m\u001b[0;34m\u001b[0m\u001b[0m\n\u001b[1;32m    298\u001b[0m             \u001b[0;32melse\u001b[0m\u001b[0;34m:\u001b[0m\u001b[0;34m\u001b[0m\u001b[0;34m\u001b[0m\u001b[0m\n",
      "\u001b[0;31mKeyboardInterrupt\u001b[0m: "
     ]
    },
    {
     "name": "stdout",
     "output_type": "stream",
     "text": [
      "Parent directory ./labeled_images_aug does not exist.\n",
      "Parent directory ./labeled_images_aug does not exist.\n",
      "Parent directory ./labeled_images_aug does not exist.\n",
      "Parent directory ./labeled_images_aug does not exist.\n",
      "Parent directory ./labeled_images_aug does not exist.\n",
      "Parent directory ./labeled_images_aug does not exist.\n",
      "Parent directory ./labeled_images_aug does not exist.\n",
      "Parent directory ./labeled_images_aug does not exist.\n",
      "Parent directory ./labeled_images_aug does not exist.\n",
      "Parent directory ./labeled_images_aug does not exist.\n",
      "Parent directory ./labeled_images_aug does not exist.\n",
      "Parent directory ./labeled_images_aug does not exist.\n",
      "Parent directory ./labeled_images_aug does not exist.\n",
      "Parent directory ./labeled_images_aug does not exist.\n",
      "Parent directory ./labeled_images_aug does not exist.\n",
      "Parent directory ./labeled_images_aug does not exist.\n",
      "Parent directory ./labeled_images_aug does not exist.\n",
      "Parent directory ./labeled_images_aug does not exist.\n",
      "Parent directory ./labeled_images_aug does not exist.\n",
      "Parent directory ./labeled_images_aug does not exist.\n",
      "Parent directory ./labeled_images_aug does not exist.\n",
      "Parent directory ./labeled_images_aug does not exist.\n",
      "Parent directory ./labeled_images_aug does not exist.\n",
      "Parent directory ./labeled_images_aug does not exist.\n",
      "Parent directory ./labeled_images_aug does not exist.\n",
      "Parent directory ./labeled_images_aug does not exist.\n",
      "HTTPSConnectionPool(host='i.seadn.io', port=443): Read timed out. (read timeout=3)\n",
      "Parent directory ./labeled_images_aug does not exist.\n",
      "Parent directory ./labeled_images_aug does not exist.\n",
      "Parent directory ./labeled_images_aug does not exist.\n",
      "Parent directory ./labeled_images_aug does not exist.\n",
      "Parent directory ./labeled_images_aug does not exist.\n",
      "HTTPSConnectionPool(host='i.seadn.io', port=443): Read timed out. (read timeout=3)\n",
      "Parent directory ./labeled_images_aug does not exist.\n",
      "Parent directory ./labeled_images_aug does not exist.\n",
      "Parent directory ./labeled_images_aug does not exist.\n",
      "Parent directory ./labeled_images_aug does not exist.\n",
      "Parent directory ./labeled_images_aug does not exist.\n",
      "Parent directory ./labeled_images_aug does not exist.\n",
      "Parent directory ./labeled_images_aug does not exist.\n",
      "Parent directory ./labeled_images_aug does not exist.\n",
      "Parent directory ./labeled_images_aug does not exist.\n",
      "Parent directory ./labeled_images_aug does not exist.\n",
      "Parent directory ./labeled_images_aug does not exist.\n",
      "Parent directory ./labeled_images_aug does not exist.\n",
      "HTTPSConnectionPool(host='i.seadn.io', port=443): Read timed out. (read timeout=3)\n",
      "Parent directory ./labeled_images_aug does not exist.\n",
      "Parent directory ./labeled_images_aug does not exist.\n",
      "Parent directory ./labeled_images_aug does not exist.\n",
      "Parent directory ./labeled_images_aug does not exist.\n",
      "Parent directory ./labeled_images_aug does not exist.\n",
      "Parent directory ./labeled_images_aug does not exist.\n",
      "Parent directory ./labeled_images_aug does not exist.\n",
      "Parent directory ./labeled_images_aug does not exist.\n",
      "Parent directory ./labeled_images_aug does not exist.\n",
      "Parent directory ./labeled_images_aug does not exist.\n",
      "Parent directory ./labeled_images_aug does not exist.\n",
      "Parent directory ./labeled_images_aug does not exist.\n",
      "Parent directory ./labeled_images_aug does not exist.\n",
      "HTTPSConnectionPool(host='i.seadn.io', port=443): Read timed out. (read timeout=3)\n",
      "Parent directory ./labeled_images_aug does not exist.\n",
      "Parent directory ./labeled_images_aug does not exist.\n",
      "Parent directory ./labeled_images_aug does not exist.\n",
      "HTTPSConnectionPool(host='i.seadn.io', port=443): Read timed out. (read timeout=3)\n",
      "Parent directory ./labeled_images_aug does not exist.\n",
      "Parent directory ./labeled_images_aug does not exist.\n",
      "Parent directory ./labeled_images_aug does not exist.\n",
      "Parent directory ./labeled_images_aug does not exist.\n",
      "Parent directory ./labeled_images_aug does not exist.\n",
      "Parent directory ./labeled_images_aug does not exist.\n",
      "HTTPSConnectionPool(host='i.seadn.io', port=443): Read timed out. (read timeout=3)\n",
      "Parent directory ./labeled_images_aug does not exist.\n",
      "Parent directory ./labeled_images_aug does not exist.\n",
      "Parent directory ./labeled_images_aug does not exist.\n",
      "Parent directory ./labeled_images_aug does not exist.\n",
      "Parent directory ./labeled_images_aug does not exist.\n",
      "HTTPSConnectionPool(host='i.seadn.io', port=443): Read timed out. (read timeout=3)\n",
      "Parent directory ./labeled_images_aug does not exist.\n",
      "Parent directory ./labeled_images_aug does not exist.\n",
      "Parent directory ./labeled_images_aug does not exist.\n",
      "Parent directory ./labeled_images_aug does not exist.\n",
      "HTTPSConnectionPool(host='i.seadn.io', port=443): Read timed out. (read timeout=3)\n",
      "Parent directory ./labeled_images_aug does not exist.\n",
      "Parent directory ./labeled_images_aug does not exist.\n",
      "Parent directory ./labeled_images_aug does not exist.\n",
      "Parent directory ./labeled_images_aug does not exist.\n",
      "Parent directory ./labeled_images_aug does not exist.\n",
      "Parent directory ./labeled_images_aug does not exist.\n",
      "HTTPSConnectionPool(host='i.seadn.io', port=443): Read timed out. (read timeout=3)\n",
      "Parent directory ./labeled_images_aug does not exist.\n",
      "Parent directory ./labeled_images_aug does not exist.\n",
      "Parent directory ./labeled_images_aug does not exist.\n",
      "Parent directory ./labeled_images_aug does not exist.\n",
      "Parent directory ./labeled_images_aug does not exist.\n",
      "Parent directory ./labeled_images_aug does not exist.\n",
      "Parent directory ./labeled_images_aug does not exist.\n",
      "Parent directory ./labeled_images_aug does not exist.\n",
      "Parent directory ./labeled_images_aug does not exist.\n",
      "Parent directory ./labeled_images_aug does not exist.\n",
      "Parent directory ./labeled_images_aug does not exist.\n",
      "Parent directory ./labeled_images_aug does not exist.\n",
      "HTTPSConnectionPool(host='i.seadn.io', port=443): Read timed out. (read timeout=3)\n",
      "Parent directory ./labeled_images_aug does not exist.\n",
      "Parent directory ./labeled_images_aug does not exist.\n",
      "Parent directory ./labeled_images_aug does not exist.\n",
      "Parent directory ./labeled_images_aug does not exist.\n",
      "Parent directory ./labeled_images_aug does not exist.\n",
      "Parent directory ./labeled_images_aug does not exist.\n",
      "Parent directory ./labeled_images_aug does not exist.\n",
      "Parent directory ./labeled_images_aug does not exist.\n",
      "Parent directory ./labeled_images_aug does not exist.\n",
      "Parent directory ./labeled_images_aug does not exist.\n",
      "Parent directory ./labeled_images_aug does not exist.\n",
      "Parent directory ./labeled_images_aug does not exist.\n",
      "Parent directory ./labeled_images_aug does not exist.\n",
      "Parent directory ./labeled_images_aug does not exist.\n",
      "HTTPSConnectionPool(host='i.seadn.io', port=443): Read timed out. (read timeout=3)\n",
      "Parent directory ./labeled_images_aug does not exist.\n",
      "Parent directory ./labeled_images_aug does not exist.\n",
      "Parent directory ./labeled_images_aug does not exist.\n",
      "Parent directory ./labeled_images_aug does not exist.\n",
      "Parent directory ./labeled_images_aug does not exist.\n",
      "Parent directory ./labeled_images_aug does not exist.\n",
      "Parent directory ./labeled_images_aug does not exist.\n",
      "HTTPSConnectionPool(host='i.seadn.io', port=443): Read timed out. (read timeout=3)\n",
      "Parent directory ./labeled_images_aug does not exist.\n",
      "Parent directory ./labeled_images_aug does not exist.\n",
      "Parent directory ./labeled_images_aug does not exist.\n",
      "Parent directory ./labeled_images_aug does not exist.\n",
      "Parent directory ./labeled_images_aug does not exist.\n",
      "Parent directory ./labeled_images_aug does not exist.\n",
      "Parent directory ./labeled_images_aug does not exist.\n",
      "Parent directory ./labeled_images_aug does not exist.\n",
      "Parent directory ./labeled_images_aug does not exist.\n",
      "Parent directory ./labeled_images_aug does not exist.\n",
      "Parent directory ./labeled_images_aug does not exist.Parent directory ./labeled_images_aug does not exist.\n",
      "\n",
      "Parent directory ./labeled_images_aug does not exist.\n",
      "Parent directory ./labeled_images_aug does not exist.\n",
      "Parent directory ./labeled_images_aug does not exist.\n",
      "Parent directory ./labeled_images_aug does not exist.\n",
      "Parent directory ./labeled_images_aug does not exist.\n",
      "Parent directory ./labeled_images_aug does not exist.\n",
      "Parent directory ./labeled_images_aug does not exist.\n",
      "Parent directory ./labeled_images_aug does not exist.\n",
      "Parent directory ./labeled_images_aug does not exist.\n",
      "Parent directory ./labeled_images_aug does not exist.\n",
      "Parent directory ./labeled_images_aug does not exist.\n",
      "Parent directory ./labeled_images_aug does not exist.\n",
      "Parent directory ./labeled_images_aug does not exist.\n",
      "HTTPSConnectionPool(host='i.seadn.io', port=443): Read timed out. (read timeout=3)\n",
      "Parent directory ./labeled_images_aug does not exist.\n",
      "Parent directory ./labeled_images_aug does not exist.\n",
      "Parent directory ./labeled_images_aug does not exist.\n",
      "Parent directory ./labeled_images_aug does not exist.\n",
      "Parent directory ./labeled_images_aug does not exist.\n",
      "Parent directory ./labeled_images_aug does not exist.\n",
      "Parent directory ./labeled_images_aug does not exist.\n",
      "Parent directory ./labeled_images_aug does not exist.\n",
      "Parent directory ./labeled_images_aug does not exist.\n",
      "Parent directory ./labeled_images_aug does not exist.\n",
      "Parent directory ./labeled_images_aug does not exist.\n",
      "Parent directory ./labeled_images_aug does not exist.\n",
      "Parent directory ./labeled_images_aug does not exist.\n",
      "HTTPSConnectionPool(host='i.seadn.io', port=443): Read timed out. (read timeout=3)\n",
      "Parent directory ./labeled_images_aug does not exist.\n",
      "Parent directory ./labeled_images_aug does not exist.\n",
      "Parent directory ./labeled_images_aug does not exist.\n",
      "Parent directory ./labeled_images_aug does not exist.\n",
      "Parent directory ./labeled_images_aug does not exist.\n",
      "HTTPSConnectionPool(host='i.seadn.io', port=443): Read timed out. (read timeout=3)\n",
      "Parent directory ./labeled_images_aug does not exist.\n",
      "Parent directory ./labeled_images_aug does not exist.\n",
      "Parent directory ./labeled_images_aug does not exist.\n",
      "Parent directory ./labeled_images_aug does not exist.\n",
      "Parent directory ./labeled_images_aug does not exist.\n",
      "Parent directory ./labeled_images_aug does not exist.\n",
      "Parent directory ./labeled_images_aug does not exist.\n",
      "Parent directory ./labeled_images_aug does not exist.\n",
      "HTTPSConnectionPool(host='i.seadn.io', port=443): Read timed out. (read timeout=3)\n"
     ]
    }
   ],
   "source": [
    "#Starting worker threads on queue processing\n",
    "for i in range(num_theads):\n",
    "    logging.debug('Starting thread ', i)\n",
    "    worker = Thread(target=download_imgs, args=(q,))\n",
    "    worker.setDaemon(True)    #setting threads as \"daemon\" allows main program to \n",
    "                              #exit eventually even if these dont finish \n",
    "                              #correctly.\n",
    "    worker.start()\n",
    "\n",
    "#now we wait until the queue has been processed\n",
    "q.join()\n",
    "\n",
    "logging.info('All tasks completed.')"
   ]
  },
  {
   "cell_type": "code",
   "execution_count": 17,
   "id": "2bd5dfbe-62e9-4684-bd23-67218536f4ee",
   "metadata": {
    "tags": []
   },
   "outputs": [],
   "source": [
    "from glob import glob\n",
    "vision_feats = glob('./labeled_images_aug/*')\n",
    "valid_contracts = [item.split('/')[-1] for item in vision_feats]\n",
    "contract_df = contract_df[contract_df['contract_address'].isin(valid_contracts)]\n",
    "contract_df = contract_df.drop_duplicates(subset=['contract_address']).reset_index(drop=True)"
   ]
  },
  {
   "cell_type": "code",
   "execution_count": 18,
   "id": "f820ccc4-4ab5-4791-87c5-a1b4421afc02",
   "metadata": {
    "tags": []
   },
   "outputs": [],
   "source": [
    "desc_full = {}\n",
    "cleaned_vision_feats = []\n",
    "null_contracts = []\n",
    "# There are some with no description, remove them first\n",
    "\n",
    "for i in range(len(contract_df)):\n",
    "    \n",
    "    contract = contract_df.loc[i, 'contract_address']\n",
    "    \n",
    "    d = contract_df.loc[i, 'desc']\n",
    "    \n",
    "    if type(d) == float or len(d)<10:\n",
    "        null_contracts.append(contract)\n",
    "        continue \n",
    "    img_file = os.path.join('./labeled_images/', contract)\n",
    "    desc_full[img_file] = d\n",
    "    cleaned_vision_feats.append(img_file)\n",
    "\n",
    "vision_feats = cleaned_vision_feats"
   ]
  },
  {
   "cell_type": "code",
   "execution_count": 140,
   "id": "39d0fac1-691e-4d3d-bb26-115257f013fb",
   "metadata": {
    "tags": []
   },
   "outputs": [],
   "source": [
    "import json\n",
    "\n",
    "SPLIT_RATIO = 0.8\n",
    "\n",
    "split_idx = int(len(desc_full)*SPLIT_RATIO)\n",
    "train_json = dict(list(desc_full.items())[:split_idx])\n",
    "test_json = dict(list(desc_full.items())[split_idx:])\n",
    "\n",
    "DATA_FOLDER = './data'\n",
    "\n",
    "with open(os.path.join(DATA_FOLDER, 'multiclass_train.json'), 'w') as f:\n",
    "    json.dump(train_json, f)\n",
    "    \n",
    "with open(os.path.join(DATA_FOLDER, 'multiclass_test.json'), 'w') as f:\n",
    "    json.dump(test_json, f)\n",
    "    "
   ]
  },
  {
   "cell_type": "markdown",
   "id": "4f97cb5a-2bc0-4f07-9d75-029eb63ec3b0",
   "metadata": {},
   "source": [
    "# Build Classifcation Model with Dumped Feature"
   ]
  },
  {
   "cell_type": "code",
   "execution_count": 19,
   "id": "f7459a64-f73d-4bff-997d-01f1cad39dc0",
   "metadata": {
    "tags": []
   },
   "outputs": [],
   "source": [
    "contract_df['is_game'] = [1 if 'Gaming' in item else 0 for item in contract_df['label']]"
   ]
  },
  {
   "cell_type": "code",
   "execution_count": 20,
   "id": "9bf4b410-a373-460d-b66e-e0554adcedda",
   "metadata": {
    "tags": []
   },
   "outputs": [
    {
     "data": {
      "text/html": [
       "<div>\n",
       "<style scoped>\n",
       "    .dataframe tbody tr th:only-of-type {\n",
       "        vertical-align: middle;\n",
       "    }\n",
       "\n",
       "    .dataframe tbody tr th {\n",
       "        vertical-align: top;\n",
       "    }\n",
       "\n",
       "    .dataframe thead th {\n",
       "        text-align: right;\n",
       "    }\n",
       "</style>\n",
       "<table border=\"1\" class=\"dataframe\">\n",
       "  <thead>\n",
       "    <tr style=\"text-align: right;\">\n",
       "      <th></th>\n",
       "      <th>title</th>\n",
       "      <th>contract_address</th>\n",
       "      <th>desc</th>\n",
       "      <th>thumbnail_urls</th>\n",
       "      <th>label</th>\n",
       "      <th>is_game</th>\n",
       "    </tr>\n",
       "  </thead>\n",
       "  <tbody>\n",
       "    <tr>\n",
       "      <th>0</th>\n",
       "      <td>Fungible Fungi Mint Pass - Collection | OpenSea</td>\n",
       "      <td>0x0816c41b87200fc5c6176b38af608faeb8d62bb5</td>\n",
       "      <td>the nonfungible fungi are a 10k collection of ...</td>\n",
       "      <td>[https://i.seadn.io/gae/9fCTuUfwLsCNdyq7fHFV7D...</td>\n",
       "      <td>[Social Collectible]</td>\n",
       "      <td>0</td>\n",
       "    </tr>\n",
       "    <tr>\n",
       "      <th>1</th>\n",
       "      <td>Efdot Originals - Collection | OpenSea</td>\n",
       "      <td>0x822f1418072e15e1d1f07533138b35a72a8a0f55</td>\n",
       "      <td>efdot originals is the home for 11 art and ser...</td>\n",
       "      <td>[https://i.seadn.io/gae/ZbikgPXKE3WpSCIsmqdc3y...</td>\n",
       "      <td>[Art]</td>\n",
       "      <td>0</td>\n",
       "    </tr>\n",
       "    <tr>\n",
       "      <th>2</th>\n",
       "      <td>GRAYCRAFT1 - Collection | OpenSea</td>\n",
       "      <td>0x9030807ba4c71831808408cbf892bfa1261a6e7d</td>\n",
       "      <td>as the first statement of the graycraft collec...</td>\n",
       "      <td>[https://i.seadn.io/gae/xLCUc4P0_6Kjr3RKC4SQed...</td>\n",
       "      <td>[Unsure (I have an open question about it)]</td>\n",
       "      <td>0</td>\n",
       "    </tr>\n",
       "    <tr>\n",
       "      <th>3</th>\n",
       "      <td>BoredAIClub - Collection | OpenSea</td>\n",
       "      <td>0xbb53dfe73a4fe50cbe2fc436a1667beb5c22956e</td>\n",
       "      <td>bored ai club is a collection of 10000 aigener...</td>\n",
       "      <td>[https://i.seadn.io/gae/HjHXP06bk9NLGhfqJ2e6aG...</td>\n",
       "      <td>[Social Collectible]</td>\n",
       "      <td>0</td>\n",
       "    </tr>\n",
       "    <tr>\n",
       "      <th>4</th>\n",
       "      <td>Free Mint Pass Dewom Boys Club - Collection | ...</td>\n",
       "      <td>0xdbc899fd57bd90537a0978d9554714cd6605face</td>\n",
       "      <td>you can find details about the fmp on our twit...</td>\n",
       "      <td>[https://i.seadn.io/gae/qt5VYklhtCL80UV-4M8N6r...</td>\n",
       "      <td>[Unsure (I have an open question about it)]</td>\n",
       "      <td>0</td>\n",
       "    </tr>\n",
       "  </tbody>\n",
       "</table>\n",
       "</div>"
      ],
      "text/plain": [
       "                                               title  \\\n",
       "0    Fungible Fungi Mint Pass - Collection | OpenSea   \n",
       "1             Efdot Originals - Collection | OpenSea   \n",
       "2                  GRAYCRAFT1 - Collection | OpenSea   \n",
       "3                 BoredAIClub - Collection | OpenSea   \n",
       "4  Free Mint Pass Dewom Boys Club - Collection | ...   \n",
       "\n",
       "                             contract_address  \\\n",
       "0  0x0816c41b87200fc5c6176b38af608faeb8d62bb5   \n",
       "1  0x822f1418072e15e1d1f07533138b35a72a8a0f55   \n",
       "2  0x9030807ba4c71831808408cbf892bfa1261a6e7d   \n",
       "3  0xbb53dfe73a4fe50cbe2fc436a1667beb5c22956e   \n",
       "4  0xdbc899fd57bd90537a0978d9554714cd6605face   \n",
       "\n",
       "                                                desc  \\\n",
       "0  the nonfungible fungi are a 10k collection of ...   \n",
       "1  efdot originals is the home for 11 art and ser...   \n",
       "2  as the first statement of the graycraft collec...   \n",
       "3  bored ai club is a collection of 10000 aigener...   \n",
       "4  you can find details about the fmp on our twit...   \n",
       "\n",
       "                                      thumbnail_urls  \\\n",
       "0  [https://i.seadn.io/gae/9fCTuUfwLsCNdyq7fHFV7D...   \n",
       "1  [https://i.seadn.io/gae/ZbikgPXKE3WpSCIsmqdc3y...   \n",
       "2  [https://i.seadn.io/gae/xLCUc4P0_6Kjr3RKC4SQed...   \n",
       "3  [https://i.seadn.io/gae/HjHXP06bk9NLGhfqJ2e6aG...   \n",
       "4  [https://i.seadn.io/gae/qt5VYklhtCL80UV-4M8N6r...   \n",
       "\n",
       "                                         label  is_game  \n",
       "0                         [Social Collectible]        0  \n",
       "1                                        [Art]        0  \n",
       "2  [Unsure (I have an open question about it)]        0  \n",
       "3                         [Social Collectible]        0  \n",
       "4  [Unsure (I have an open question about it)]        0  "
      ]
     },
     "execution_count": 20,
     "metadata": {},
     "output_type": "execute_result"
    }
   ],
   "source": [
    "contract_df.head()"
   ]
  },
  {
   "cell_type": "code",
   "execution_count": 21,
   "id": "3cef69fc-43d3-4f20-9ae1-a7dc7efa8a9e",
   "metadata": {
    "tags": []
   },
   "outputs": [
    {
     "data": {
      "text/plain": [
       "197"
      ]
     },
     "execution_count": 21,
     "metadata": {},
     "output_type": "execute_result"
    }
   ],
   "source": [
    "sum(contract_df.is_game)"
   ]
  },
  {
   "cell_type": "code",
   "execution_count": 22,
   "id": "fbdc80e4-d34d-42f8-9e93-58133d4fe7e3",
   "metadata": {
    "tags": []
   },
   "outputs": [
    {
     "ename": "NameError",
     "evalue": "name 'train_json' is not defined",
     "output_type": "error",
     "traceback": [
      "\u001b[0;31m---------------------------------------------------------------------------\u001b[0m",
      "\u001b[0;31mNameError\u001b[0m                                 Traceback (most recent call last)",
      "\u001b[0;32m<ipython-input-22-d429cba72ac6>\u001b[0m in \u001b[0;36m<module>\u001b[0;34m\u001b[0m\n\u001b[1;32m      3\u001b[0m \u001b[0mY_train\u001b[0m \u001b[0;34m=\u001b[0m \u001b[0;34m[\u001b[0m\u001b[0;34m]\u001b[0m\u001b[0;34m\u001b[0m\u001b[0;34m\u001b[0m\u001b[0m\n\u001b[1;32m      4\u001b[0m \u001b[0;34m\u001b[0m\u001b[0m\n\u001b[0;32m----> 5\u001b[0;31m \u001b[0;32mfor\u001b[0m \u001b[0mkey\u001b[0m \u001b[0;32min\u001b[0m \u001b[0mlist\u001b[0m\u001b[0;34m(\u001b[0m\u001b[0mtrain_json\u001b[0m\u001b[0;34m.\u001b[0m\u001b[0mkeys\u001b[0m\u001b[0;34m(\u001b[0m\u001b[0;34m)\u001b[0m\u001b[0;34m)\u001b[0m\u001b[0;34m:\u001b[0m\u001b[0;34m\u001b[0m\u001b[0;34m\u001b[0m\u001b[0m\n\u001b[0m\u001b[1;32m      6\u001b[0m     \u001b[0mcontract\u001b[0m \u001b[0;34m=\u001b[0m \u001b[0mkey\u001b[0m\u001b[0;34m.\u001b[0m\u001b[0msplit\u001b[0m\u001b[0;34m(\u001b[0m\u001b[0;34m'/'\u001b[0m\u001b[0;34m)\u001b[0m\u001b[0;34m[\u001b[0m\u001b[0;34m-\u001b[0m\u001b[0;36m1\u001b[0m\u001b[0;34m]\u001b[0m\u001b[0;34m\u001b[0m\u001b[0;34m\u001b[0m\u001b[0m\n\u001b[1;32m      7\u001b[0m     \u001b[0mtext_feature\u001b[0m \u001b[0;34m=\u001b[0m \u001b[0mtorch\u001b[0m\u001b[0;34m.\u001b[0m\u001b[0mload\u001b[0m\u001b[0;34m(\u001b[0m\u001b[0;34m'./feature_classification/'\u001b[0m\u001b[0;34m+\u001b[0m\u001b[0mcontract\u001b[0m\u001b[0;34m+\u001b[0m\u001b[0;34m'_text'\u001b[0m\u001b[0;34m)\u001b[0m\u001b[0;34m.\u001b[0m\u001b[0mdetach\u001b[0m\u001b[0;34m(\u001b[0m\u001b[0;34m)\u001b[0m\u001b[0;34m.\u001b[0m\u001b[0mnumpy\u001b[0m\u001b[0;34m(\u001b[0m\u001b[0;34m)\u001b[0m\u001b[0;34m\u001b[0m\u001b[0;34m\u001b[0m\u001b[0m\n",
      "\u001b[0;31mNameError\u001b[0m: name 'train_json' is not defined"
     ]
    }
   ],
   "source": [
    "import numpy as np\n",
    "X_train = []\n",
    "Y_train = []\n",
    "\n",
    "for key in list(train_json.keys()):\n",
    "    contract = key.split('/')[-1]\n",
    "    text_feature = torch.load('./feature_classification/'+contract+'_text').detach().numpy()\n",
    "    label = contract_df.loc[contract_df['contract_address']==contract, 'is_game'].item()\n",
    "    X_train.append(text_feature)\n",
    "    Y_train.append(label)\n",
    "X_train = np.stack(X_train)\n",
    "\n",
    "X_test = []\n",
    "Y_test = []\n",
    "\n",
    "for key in list(test_json.keys()):\n",
    "    contract = key.split('/')[-1]\n",
    "    text_feature = torch.load('./feature_classification/'+contract+'_text').detach().numpy()\n",
    "    label = contract_df.loc[contract_df['contract_address']==contract, 'is_game'].item()\n",
    "    X_test.append(text_feature)\n",
    "    Y_test.append(label)\n",
    "X_test = np.stack(X_test)"
   ]
  },
  {
   "cell_type": "markdown",
   "id": "269961a5-24b0-4311-8f14-ad400aea78c0",
   "metadata": {},
   "source": [
    "## Logistics"
   ]
  },
  {
   "cell_type": "code",
   "execution_count": 171,
   "id": "ec32d957-7c27-4162-9cd1-dbe6167ef555",
   "metadata": {
    "tags": []
   },
   "outputs": [
    {
     "name": "stderr",
     "output_type": "stream",
     "text": [
      "/opt/conda/lib/python3.7/site-packages/sklearn/linear_model/_logistic.py:940: ConvergenceWarning: lbfgs failed to converge (status=1):\n",
      "STOP: TOTAL NO. of ITERATIONS REACHED LIMIT.\n",
      "\n",
      "Increase the number of iterations (max_iter) or scale the data as shown in:\n",
      "    https://scikit-learn.org/stable/modules/preprocessing.html\n",
      "Please also refer to the documentation for alternative solver options:\n",
      "    https://scikit-learn.org/stable/modules/linear_model.html#logistic-regression\n",
      "  extra_warning_msg=_LOGISTIC_SOLVER_CONVERGENCE_MSG)\n"
     ]
    },
    {
     "data": {
      "text/plain": [
       "LogisticRegression(C=1.0, class_weight=None, dual=False, fit_intercept=True,\n",
       "                   intercept_scaling=1, l1_ratio=None, max_iter=100,\n",
       "                   multi_class='auto', n_jobs=None, penalty='l2',\n",
       "                   random_state=None, solver='lbfgs', tol=0.0001, verbose=0,\n",
       "                   warm_start=False)"
      ]
     },
     "execution_count": 171,
     "metadata": {},
     "output_type": "execute_result"
    }
   ],
   "source": [
    "from sklearn.linear_model import LogisticRegression\n",
    "logisticRegr = LogisticRegression()\n",
    "logisticRegr.fit(X_train, Y_train)"
   ]
  },
  {
   "cell_type": "code",
   "execution_count": 175,
   "id": "11fada56-47ed-480e-89da-9eb8e6601c86",
   "metadata": {
    "tags": []
   },
   "outputs": [],
   "source": [
    "predictions = logisticRegr.predict(X_test)\n"
   ]
  },
  {
   "cell_type": "code",
   "execution_count": 181,
   "id": "798222de-ad0f-4b0d-a944-32b9ae3a3974",
   "metadata": {
    "tags": []
   },
   "outputs": [
    {
     "data": {
      "text/plain": [
       "43"
      ]
     },
     "execution_count": 181,
     "metadata": {},
     "output_type": "execute_result"
    }
   ],
   "source": [
    "sum(Y_test)"
   ]
  },
  {
   "cell_type": "code",
   "execution_count": 179,
   "id": "b9fadb81-8f01-4b30-b818-d72f935703bb",
   "metadata": {
    "tags": []
   },
   "outputs": [
    {
     "name": "stdout",
     "output_type": "stream",
     "text": [
      "0.8673139158576052\n"
     ]
    }
   ],
   "source": [
    "\n",
    "score = logisticRegr.score(X_test, Y_test)\n",
    "print(score)"
   ]
  },
  {
   "cell_type": "code",
   "execution_count": 185,
   "id": "9f2fad4e-f207-4af6-92fa-9dc2ee3416e7",
   "metadata": {
    "tags": []
   },
   "outputs": [
    {
     "name": "stdout",
     "output_type": "stream",
     "text": [
      "0.8333624759573351\n"
     ]
    },
    {
     "data": {
      "image/png": "[encoded data removed]",
      "text/plain": [
       "<Figure size 640x480 with 1 Axes>"
      ]
     },
     "metadata": {},
     "output_type": "display_data"
    }
   ],
   "source": [
    "from sklearn import metrics\n",
    "import matplotlib.pyplot as plt\n",
    "#use model to predict probability that given y value is 1\n",
    "y_pred_proba = logisticRegr.predict_proba(X_test)[::,1]\n",
    "\n",
    "#calculate AUC of model\n",
    "auc = metrics.roc_auc_score(Y_test, y_pred_proba)\n",
    "\n",
    "#print AUC score\n",
    "print(auc)\n",
    "\n",
    "fpr, tpr, _ = metrics.roc_curve(Y_test,  y_pred_proba)\n",
    "\n",
    "#create ROC curve\n",
    "plt.plot(fpr,tpr)\n",
    "plt.ylabel('True Positive Rate')\n",
    "plt.xlabel('False Positive Rate')\n",
    "plt.show()\n"
   ]
  },
  {
   "cell_type": "code",
   "execution_count": 187,
   "id": "af6c244e-5299-4637-99a8-f65c3ac81404",
   "metadata": {
    "tags": []
   },
   "outputs": [
    {
     "data": {
      "text/plain": [
       "array([[253,  13],\n",
       "       [ 28,  15]])"
      ]
     },
     "execution_count": 187,
     "metadata": {},
     "output_type": "execute_result"
    }
   ],
   "source": [
    "metrics.confusion_matrix(Y_test, predictions)"
   ]
  },
  {
   "cell_type": "markdown",
   "id": "fa782ec6-a73a-4ccf-9960-4c3ebff2cb96",
   "metadata": {},
   "source": [
    "## KNN"
   ]
  },
  {
   "cell_type": "code",
   "execution_count": 197,
   "id": "7132439c-f579-49cb-b9ec-1ba61b6edcc1",
   "metadata": {
    "tags": []
   },
   "outputs": [
    {
     "data": {
      "text/plain": [
       "KNeighborsClassifier(algorithm='auto', leaf_size=30, metric='minkowski',\n",
       "                     metric_params=None, n_jobs=None, n_neighbors=20, p=2,\n",
       "                     weights='uniform')"
      ]
     },
     "execution_count": 197,
     "metadata": {},
     "output_type": "execute_result"
    }
   ],
   "source": [
    "from sklearn.neighbors import KNeighborsClassifier\n",
    "\n",
    "neigh = KNeighborsClassifier(n_neighbors=20)\n",
    "neigh.fit(X_train, Y_train)"
   ]
  },
  {
   "cell_type": "code",
   "execution_count": 198,
   "id": "7c3d1108-2593-48f0-bc1b-33c8eb0fea10",
   "metadata": {
    "tags": []
   },
   "outputs": [
    {
     "name": "stdout",
     "output_type": "stream",
     "text": [
      "0.7779332051057877\n"
     ]
    },
    {
     "data": {
      "image/png": "[encoded data removed]",
      "text/plain": [
       "<Figure size 640x480 with 1 Axes>"
      ]
     },
     "metadata": {},
     "output_type": "display_data"
    }
   ],
   "source": [
    "\n",
    "\n",
    "#use model to predict probability that given y value is 1\n",
    "y_pred_proba = neigh.predict_proba(X_test)[::,1]\n",
    "\n",
    "#calculate AUC of model\n",
    "auc = metrics.roc_auc_score(Y_test, y_pred_proba)\n",
    "\n",
    "#print AUC score\n",
    "print(auc)\n",
    "\n",
    "fpr, tpr, _ = metrics.roc_curve(Y_test,  y_pred_proba)\n",
    "\n",
    "#create ROC curve\n",
    "plt.plot(fpr,tpr)\n",
    "plt.ylabel('True Positive Rate')\n",
    "plt.xlabel('False Positive Rate')\n",
    "plt.show()\n"
   ]
  },
  {
   "cell_type": "markdown",
   "id": "b0425fc7-b26c-43f8-8a11-cee3a8597051",
   "metadata": {},
   "source": [
    "# Data Upload to S3"
   ]
  },
  {
   "cell_type": "code",
   "execution_count": 27,
   "id": "5100fe47-f3a6-42e9-a47a-453fed726b8a",
   "metadata": {
    "tags": []
   },
   "outputs": [],
   "source": [
    "# Export to s3\n",
    "bucket_export = 'clip-embedding-metastitch'\n",
    "FILE_NAME  = 'contract_with_labels.csv'\n",
    "contract_df.to_csv(FILE_NAME, index=False)\n",
    "TO_DUMP = 'classifcation_v1/' + FILE_NAME\n",
    "s3_client.upload_file(FILE_NAME, bucket_export, TO_DUMP)"
   ]
  },
  {
   "cell_type": "code",
   "execution_count": 28,
   "id": "65a839d0-c206-43ad-a539-6b3dd65aee46",
   "metadata": {
    "tags": []
   },
   "outputs": [],
   "source": [
    "embedings = glob('./feature_classification/*')\n",
    "for file in embedings:\n",
    "    file_name = file.split('/')[-1]\n",
    "    TO_DUMP = 'classifcation_v1/features/' + file_name\n",
    "    s3_client.upload_file(file, bucket_export, TO_DUMP)"
   ]
  },
  {
   "cell_type": "code",
   "execution_count": 29,
   "id": "f093a1ff-977d-4d1e-8fa0-4fe7ff079e6e",
   "metadata": {
    "tags": []
   },
   "outputs": [
    {
     "data": {
      "text/plain": [
       "'/root/feature_classification.zip'"
      ]
     },
     "execution_count": 29,
     "metadata": {},
     "output_type": "execute_result"
    }
   ],
   "source": [
    "import shutil\n",
    "shutil.make_archive('feature_classification', 'zip', './feature_classification/')\n"
   ]
  },
  {
   "cell_type": "code",
   "execution_count": 30,
   "id": "b88ef775-00cb-4a91-a1de-9a78f8270568",
   "metadata": {
    "tags": []
   },
   "outputs": [],
   "source": [
    "s3_client.upload_file('feature_classification.zip', bucket_export, 'classifcation_v1/feature_classification.zip')"
   ]
  }
 ],
 "metadata": {
  "availableInstances": [
   {
    "_defaultOrder": 0,
    "_isFastLaunch": true,
    "category": "General purpose",
    "gpuNum": 0,
    "memoryGiB": 4,
    "name": "ml.t3.medium",
    "vcpuNum": 2
   },
   {
    "_defaultOrder": 1,
    "_isFastLaunch": false,
    "category": "General purpose",
    "gpuNum": 0,
    "memoryGiB": 8,
    "name": "ml.t3.large",
    "vcpuNum": 2
   },
   {
    "_defaultOrder": 2,
    "_isFastLaunch": false,
    "category": "General purpose",
    "gpuNum": 0,
    "memoryGiB": 16,
    "name": "ml.t3.xlarge",
    "vcpuNum": 4
   },
   {
    "_defaultOrder": 3,
    "_isFastLaunch": false,
    "category": "General purpose",
    "gpuNum": 0,
    "memoryGiB": 32,
    "name": "ml.t3.2xlarge",
    "vcpuNum": 8
   },
   {
    "_defaultOrder": 4,
    "_isFastLaunch": true,
    "category": "General purpose",
    "gpuNum": 0,
    "memoryGiB": 8,
    "name": "ml.m5.large",
    "vcpuNum": 2
   },
   {
    "_defaultOrder": 5,
    "_isFastLaunch": false,
    "category": "General purpose",
    "gpuNum": 0,
    "memoryGiB": 16,
    "name": "ml.m5.xlarge",
    "vcpuNum": 4
   },
   {
    "_defaultOrder": 6,
    "_isFastLaunch": false,
    "category": "General purpose",
    "gpuNum": 0,
    "memoryGiB": 32,
    "name": "ml.m5.2xlarge",
    "vcpuNum": 8
   },
   {
    "_defaultOrder": 7,
    "_isFastLaunch": false,
    "category": "General purpose",
    "gpuNum": 0,
    "memoryGiB": 64,
    "name": "ml.m5.4xlarge",
    "vcpuNum": 16
   },
   {
    "_defaultOrder": 8,
    "_isFastLaunch": false,
    "category": "General purpose",
    "gpuNum": 0,
    "memoryGiB": 128,
    "name": "ml.m5.8xlarge",
    "vcpuNum": 32
   },
   {
    "_defaultOrder": 9,
    "_isFastLaunch": false,
    "category": "General purpose",
    "gpuNum": 0,
    "memoryGiB": 192,
    "name": "ml.m5.12xlarge",
    "vcpuNum": 48
   },
   {
    "_defaultOrder": 10,
    "_isFastLaunch": false,
    "category": "General purpose",
    "gpuNum": 0,
    "memoryGiB": 256,
    "name": "ml.m5.16xlarge",
    "vcpuNum": 64
   },
   {
    "_defaultOrder": 11,
    "_isFastLaunch": false,
    "category": "General purpose",
    "gpuNum": 0,
    "memoryGiB": 384,
    "name": "ml.m5.24xlarge",
    "vcpuNum": 96
   },
   {
    "_defaultOrder": 12,
    "_isFastLaunch": false,
    "category": "General purpose",
    "gpuNum": 0,
    "memoryGiB": 8,
    "name": "ml.m5d.large",
    "vcpuNum": 2
   },
   {
    "_defaultOrder": 13,
    "_isFastLaunch": false,
    "category": "General purpose",
    "gpuNum": 0,
    "memoryGiB": 16,
    "name": "ml.m5d.xlarge",
    "vcpuNum": 4
   },
   {
    "_defaultOrder": 14,
    "_isFastLaunch": false,
    "category": "General purpose",
    "gpuNum": 0,
    "memoryGiB": 32,
    "name": "ml.m5d.2xlarge",
    "vcpuNum": 8
   },
   {
    "_defaultOrder": 15,
    "_isFastLaunch": false,
    "category": "General purpose",
    "gpuNum": 0,
    "memoryGiB": 64,
    "name": "ml.m5d.4xlarge",
    "vcpuNum": 16
   },
   {
    "_defaultOrder": 16,
    "_isFastLaunch": false,
    "category": "General purpose",
    "gpuNum": 0,
    "memoryGiB": 128,
    "name": "ml.m5d.8xlarge",
    "vcpuNum": 32
   },
   {
    "_defaultOrder": 17,
    "_isFastLaunch": false,
    "category": "General purpose",
    "gpuNum": 0,
    "memoryGiB": 192,
    "name": "ml.m5d.12xlarge",
    "vcpuNum": 48
   },
   {
    "_defaultOrder": 18,
    "_isFastLaunch": false,
    "category": "General purpose",
    "gpuNum": 0,
    "memoryGiB": 256,
    "name": "ml.m5d.16xlarge",
    "vcpuNum": 64
   },
   {
    "_defaultOrder": 19,
    "_isFastLaunch": false,
    "category": "General purpose",
    "gpuNum": 0,
    "memoryGiB": 384,
    "name": "ml.m5d.24xlarge",
    "vcpuNum": 96
   },
   {
    "_defaultOrder": 20,
    "_isFastLaunch": true,
    "category": "Compute optimized",
    "gpuNum": 0,
    "memoryGiB": 4,
    "name": "ml.c5.large",
    "vcpuNum": 2
   },
   {
    "_defaultOrder": 21,
    "_isFastLaunch": false,
    "category": "Compute optimized",
    "gpuNum": 0,
    "memoryGiB": 8,
    "name": "ml.c5.xlarge",
    "vcpuNum": 4
   },
   {
    "_defaultOrder": 22,
    "_isFastLaunch": false,
    "category": "Compute optimized",
    "gpuNum": 0,
    "memoryGiB": 16,
    "name": "ml.c5.2xlarge",
    "vcpuNum": 8
   },
   {
    "_defaultOrder": 23,
    "_isFastLaunch": false,
    "category": "Compute optimized",
    "gpuNum": 0,
    "memoryGiB": 32,
    "name": "ml.c5.4xlarge",
    "vcpuNum": 16
   },
   {
    "_defaultOrder": 24,
    "_isFastLaunch": false,
    "category": "Compute optimized",
    "gpuNum": 0,
    "memoryGiB": 72,
    "name": "ml.c5.9xlarge",
    "vcpuNum": 36
   },
   {
    "_defaultOrder": 25,
    "_isFastLaunch": false,
    "category": "Compute optimized",
    "gpuNum": 0,
    "memoryGiB": 96,
    "name": "ml.c5.12xlarge",
    "vcpuNum": 48
   },
   {
    "_defaultOrder": 26,
    "_isFastLaunch": false,
    "category": "Compute optimized",
    "gpuNum": 0,
    "memoryGiB": 144,
    "name": "ml.c5.18xlarge",
    "vcpuNum": 72
   },
   {
    "_defaultOrder": 27,
    "_isFastLaunch": false,
    "category": "Compute optimized",
    "gpuNum": 0,
    "memoryGiB": 192,
    "name": "ml.c5.24xlarge",
    "vcpuNum": 96
   },
   {
    "_defaultOrder": 28,
    "_isFastLaunch": true,
    "category": "Accelerated computing",
    "gpuNum": 1,
    "memoryGiB": 16,
    "name": "ml.g4dn.xlarge",
    "vcpuNum": 4
   },
   {
    "_defaultOrder": 29,
    "_isFastLaunch": false,
    "category": "Accelerated computing",
    "gpuNum": 1,
    "memoryGiB": 32,
    "name": "ml.g4dn.2xlarge",
    "vcpuNum": 8
   },
   {
    "_defaultOrder": 30,
    "_isFastLaunch": false,
    "category": "Accelerated computing",
    "gpuNum": 1,
    "memoryGiB": 64,
    "name": "ml.g4dn.4xlarge",
    "vcpuNum": 16
   },
   {
    "_defaultOrder": 31,
    "_isFastLaunch": false,
    "category": "Accelerated computing",
    "gpuNum": 1,
    "memoryGiB": 128,
    "name": "ml.g4dn.8xlarge",
    "vcpuNum": 32
   },
   {
    "_defaultOrder": 32,
    "_isFastLaunch": false,
    "category": "Accelerated computing",
    "gpuNum": 4,
    "memoryGiB": 192,
    "name": "ml.g4dn.12xlarge",
    "vcpuNum": 48
   },
   {
    "_defaultOrder": 33,
    "_isFastLaunch": false,
    "category": "Accelerated computing",
    "gpuNum": 1,
    "memoryGiB": 256,
    "name": "ml.g4dn.16xlarge",
    "vcpuNum": 64
   },
   {
    "_defaultOrder": 34,
    "_isFastLaunch": false,
    "category": "Accelerated computing",
    "gpuNum": 1,
    "memoryGiB": 61,
    "name": "ml.p3.2xlarge",
    "vcpuNum": 8
   },
   {
    "_defaultOrder": 35,
    "_isFastLaunch": false,
    "category": "Accelerated computing",
    "gpuNum": 4,
    "memoryGiB": 244,
    "name": "ml.p3.8xlarge",
    "vcpuNum": 32
   },
   {
    "_defaultOrder": 36,
    "_isFastLaunch": false,
    "category": "Accelerated computing",
    "gpuNum": 8,
    "memoryGiB": 488,
    "name": "ml.p3.16xlarge",
    "vcpuNum": 64
   },
   {
    "_defaultOrder": 37,
    "_isFastLaunch": false,
    "category": "Accelerated computing",
    "gpuNum": 8,
    "memoryGiB": 768,
    "name": "ml.p3dn.24xlarge",
    "vcpuNum": 96
   },
   {
    "_defaultOrder": 38,
    "_isFastLaunch": false,
    "category": "Memory Optimized",
    "gpuNum": 0,
    "memoryGiB": 16,
    "name": "ml.r5.large",
    "vcpuNum": 2
   },
   {
    "_defaultOrder": 39,
    "_isFastLaunch": false,
    "category": "Memory Optimized",
    "gpuNum": 0,
    "memoryGiB": 32,
    "name": "ml.r5.xlarge",
    "vcpuNum": 4
   },
   {
    "_defaultOrder": 40,
    "_isFastLaunch": false,
    "category": "Memory Optimized",
    "gpuNum": 0,
    "memoryGiB": 64,
    "name": "ml.r5.2xlarge",
    "vcpuNum": 8
   },
   {
    "_defaultOrder": 41,
    "_isFastLaunch": false,
    "category": "Memory Optimized",
    "gpuNum": 0,
    "memoryGiB": 128,
    "name": "ml.r5.4xlarge",
    "vcpuNum": 16
   },
   {
    "_defaultOrder": 42,
    "_isFastLaunch": false,
    "category": "Memory Optimized",
    "gpuNum": 0,
    "memoryGiB": 256,
    "name": "ml.r5.8xlarge",
    "vcpuNum": 32
   },
   {
    "_defaultOrder": 43,
    "_isFastLaunch": false,
    "category": "Memory Optimized",
    "gpuNum": 0,
    "memoryGiB": 384,
    "name": "ml.r5.12xlarge",
    "vcpuNum": 48
   },
   {
    "_defaultOrder": 44,
    "_isFastLaunch": false,
    "category": "Memory Optimized",
    "gpuNum": 0,
    "memoryGiB": 512,
    "name": "ml.r5.16xlarge",
    "vcpuNum": 64
   },
   {
    "_defaultOrder": 45,
    "_isFastLaunch": false,
    "category": "Memory Optimized",
    "gpuNum": 0,
    "memoryGiB": 768,
    "name": "ml.r5.24xlarge",
    "vcpuNum": 96
   },
   {
    "_defaultOrder": 46,
    "_isFastLaunch": false,
    "category": "Accelerated computing",
    "gpuNum": 1,
    "memoryGiB": 16,
    "name": "ml.g5.xlarge",
    "vcpuNum": 4
   },
   {
    "_defaultOrder": 47,
    "_isFastLaunch": false,
    "category": "Accelerated computing",
    "gpuNum": 1,
    "memoryGiB": 32,
    "name": "ml.g5.2xlarge",
    "vcpuNum": 8
   },
   {
    "_defaultOrder": 48,
    "_isFastLaunch": false,
    "category": "Accelerated computing",
    "gpuNum": 1,
    "memoryGiB": 64,
    "name": "ml.g5.4xlarge",
    "vcpuNum": 16
   },
   {
    "_defaultOrder": 49,
    "_isFastLaunch": false,
    "category": "Accelerated computing",
    "gpuNum": 1,
    "memoryGiB": 128,
    "name": "ml.g5.8xlarge",
    "vcpuNum": 32
   },
   {
    "_defaultOrder": 50,
    "_isFastLaunch": false,
    "category": "Accelerated computing",
    "gpuNum": 1,
    "memoryGiB": 256,
    "name": "ml.g5.16xlarge",
    "vcpuNum": 64
   },
   {
    "_defaultOrder": 51,
    "_isFastLaunch": false,
    "category": "Accelerated computing",
    "gpuNum": 4,
    "memoryGiB": 192,
    "name": "ml.g5.12xlarge",
    "vcpuNum": 48
   },
   {
    "_defaultOrder": 52,
    "_isFastLaunch": false,
    "category": "Accelerated computing",
    "gpuNum": 4,
    "memoryGiB": 384,
    "name": "ml.g5.24xlarge",
    "vcpuNum": 96
   },
   {
    "_defaultOrder": 53,
    "_isFastLaunch": false,
    "category": "Accelerated computing",
    "gpuNum": 8,
    "memoryGiB": 768,
    "name": "ml.g5.48xlarge",
    "vcpuNum": 192
   }
  ],
  "instance_type": "ml.m5.large",
  "kernelspec": {
   "display_name": "Python 3 (Data Science)",
   "language": "python",
   "name": "python3__SAGEMAKER_INTERNAL__arn:aws:sagemaker:us-west-2:236514542706:image/datascience-1.0"
  },
  "language_info": {
   "codemirror_mode": {
    "name": "ipython",
    "version": 3
   },
   "file_extension": ".py",
   "mimetype": "text/x-python",
   "name": "python",
   "nbconvert_exporter": "python",
   "pygments_lexer": "ipython3",
   "version": "3.7.10"
  },
  "toc-showcode": false,
  "toc-showmarkdowntxt": true
 },
 "nbformat": 4,
 "nbformat_minor": 5
}
